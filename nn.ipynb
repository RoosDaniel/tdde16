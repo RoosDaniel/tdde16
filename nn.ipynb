{
 "metadata": {
  "language_info": {
   "codemirror_mode": {
    "name": "ipython",
    "version": 3
   },
   "file_extension": ".py",
   "mimetype": "text/x-python",
   "name": "python",
   "nbconvert_exporter": "python",
   "pygments_lexer": "ipython3",
   "version": "3.7.5-final"
  },
  "orig_nbformat": 2,
  "kernelspec": {
   "name": "python3",
   "display_name": "Python 3.7.5 64-bit ('venv')",
   "metadata": {
    "interpreter": {
     "hash": "dfb3cdb93a2a6d326e280b61be2c150b10efd4f8f800f0b464dac8c6699df2f5"
    }
   }
  }
 },
 "nbformat": 4,
 "nbformat_minor": 2,
 "cells": [
  {
   "cell_type": "code",
   "execution_count": 1,
   "metadata": {},
   "outputs": [],
   "source": [
    "import numpy as np\n",
    "\n",
    "# TODO Remove all that have more than 1 class and train in a single-labeled way instead\n",
    "# Do filtering here, and copy notebook instead.\n",
    "\n",
    "\n",
    "def split_test_train(data, train_perc):\n",
    "    train_num = int(len(data)*train_perc)\n",
    "\n",
    "    return (\n",
    "        (\n",
    "            np.array([t[\"emotions\"] for t in data[:train_num]]),\n",
    "            np.array([t[\"genres\"] for t in data[:train_num]])\n",
    "        ),\n",
    "        (\n",
    "            np.array([t[\"emotions\"] for t in data[train_num:]]),\n",
    "            np.array([t[\"genres\"] for t in data[train_num:]])\n",
    "        )\n",
    "    )\n",
    "\n",
    "\n",
    "def split_x_y(data):\n",
    "    return (\n",
    "        np.array([t[\"emotions\"] for t in data]),\n",
    "        np.array([t[\"genres\"] for t in data])\n",
    "    )"
   ]
  },
  {
   "cell_type": "code",
   "execution_count": 2,
   "metadata": {},
   "outputs": [],
   "source": [
    "import tensorflow as tf\n",
    "import tensorflow_addons as tfa\n",
    "\n",
    "from tensorflow.keras import Sequential\n",
    "from tensorflow.keras.layers import Dense\n",
    "\n",
    "\n",
    "tf.keras.backend.clear_session()\n",
    "tf.get_logger().setLevel(\"ERROR\")\n",
    "\n",
    "\n",
    "def get_model(input_dim, hidden_dim, output_dim, lr=0.01):\n",
    "    if hidden_dim:\n",
    "        model = Sequential([\n",
    "            Dense(hidden_dim[0], input_dim=input_dim, activation='relu')\n",
    "        ])\n",
    "\n",
    "        for h in hidden_dim[1:]:\n",
    "            model.add(Dense(h, activation=\"relu\"))\n",
    "        model.add(Dense(output_dim, activation='sigmoid'))\n",
    "    else:\n",
    "        model = Sequential([\n",
    "            Dense(output_dim, input_dim=input_dim, activation='sigmoid')\n",
    "        ])\n",
    "    \n",
    "    hamming_loss = tfa.metrics.HammingLoss(mode=\"multilabel\", threshold=.5)\n",
    "    optimizer = tf.keras.optimizers.Adam(learning_rate=lr)\n",
    "    model.compile(loss=\"binary_crossentropy\", optimizer=optimizer, metrics=[hamming_loss])\n",
    "    return model"
   ]
  },
  {
   "cell_type": "code",
   "execution_count": 32,
   "metadata": {},
   "outputs": [],
   "source": [
    "from sklearn.metrics import hamming_loss as sk_hamming_loss, f1_score as sk_f1_score\n",
    "from sklearn.model_selection import RepeatedKFold\n",
    "\n",
    "\n",
    "def hamming_loss(y_pred, y_true):\n",
    "    return sk_hamming_loss(y_true, y_pred)\n",
    "\n",
    "\n",
    "def f1_score(y_pred, y_true):\n",
    "    return sk_f1_score(y_true, y_pred, average=\"weighted\")\n",
    "\n",
    "\n",
    "def evaluate(x, y, threshold=.5):\n",
    "    hamming_losses = []\n",
    "    f1_scores = []\n",
    "    input_dim, output_dim = x.shape[1], y.shape[1]\n",
    "\n",
    "    cv = RepeatedKFold(n_splits=10, n_repeats=3, random_state=1)\n",
    "\n",
    "    for i, (train_i, test_i) in enumerate(cv.split(x)):\n",
    "        x_train, x_test = x[train_i], x[test_i]\n",
    "        y_train, y_test = y[train_i], y[test_i]\n",
    "\n",
    "        model = get_model(input_dim=input_dim, hidden_dim=[40, 20], output_dim=output_dim, lr=0.001)\n",
    "        history = model.fit(x_train, y_train, verbose=0, epochs=300)\n",
    "    \n",
    "        y_pred = model.predict(x_test)\n",
    "        binary_pred = [[round(y_val-threshold+.5) for y_val in pred] for pred in y_pred]\n",
    "\n",
    "        hamming_losses.append(hamming_loss(binary_pred, y_test))\n",
    "        f1_scores.append(f1_score(binary_pred, y_test))\n",
    "\n",
    "        print(\"%s: %.3f\" % (i+1, f1_scores[-1]))\n",
    "\n",
    "        # acc = rounding_acc(model, x_test, y_test)\n",
    "        # results.append(acc)\n",
    "\n",
    "        # print(\"%s: %.3f\" % (i, mean(results)))\n",
    "    return hamming_losses, f1_scores"
   ]
  },
  {
   "cell_type": "code",
   "execution_count": 34,
   "metadata": {},
   "outputs": [],
   "source": [
    "import json\n",
    "\n",
    "\n",
    "with open(\"nrc/nrc_vect.json\") as file:\n",
    "    data = json.load(file)\n",
    "\n",
    "x, y = split_x_y(data[\"movies\"])\n",
    "labels = data[\"genre_order\"]"
   ]
  },
  {
   "cell_type": "code",
   "execution_count": 35,
   "metadata": {
    "tags": []
   },
   "outputs": [
    {
     "output_type": "stream",
     "name": "stdout",
     "text": [
      "1: 0.550\n",
      "2: 0.484\n",
      "3: 0.564\n",
      "4: 0.463\n",
      "5: 0.542\n",
      "6: 0.542\n",
      "7: 0.509\n",
      "8: 0.565\n",
      "9: 0.611\n",
      "10: 0.611\n",
      "11: 0.619\n",
      "12: 0.605\n",
      "13: 0.564\n",
      "14: 0.592\n",
      "15: 0.488\n",
      "16: 0.551\n",
      "17: 0.633\n",
      "18: 0.460\n",
      "19: 0.483\n",
      "20: 0.520\n",
      "21: 0.526\n",
      "22: 0.603\n",
      "23: 0.530\n",
      "24: 0.537\n",
      "25: 0.601\n",
      "26: 0.525\n",
      "27: 0.547\n",
      "28: 0.494\n",
      "29: 0.567\n",
      "30: 0.540\n",
      "Avg. hamming loss: 0.261 (std.dev: 0.028)\n",
      "Avg. f1-score: 0.547 (std.dev: 0.047)\n"
     ]
    }
   ],
   "source": [
    "hamming_losses, f1_scores = evaluate(x, y)\n",
    "\n",
    "print(\"Avg. hamming loss: %.3f (std.dev: %.3f)\" % (np.mean(hamming_losses), np.std(hamming_losses)))\n",
    "print(\"Avg. f1-score: %.3f (std.dev: %.3f)\" % (np.mean(f1_scores), np.std(f1_scores)))"
   ]
  },
  {
   "cell_type": "code",
   "execution_count": 30,
   "metadata": {},
   "outputs": [],
   "source": [
    "input_dim, output_dim = x.shape[1], y.shape[1]\n",
    "\n",
    "(x_train, y_train), (x_test, y_test) = split_test_train(data[\"movies\"], .9)\n",
    "\n",
    "model = get_model(input_dim=input_dim, hidden_dim=[40, 20], output_dim=output_dim, lr=0.001)\n",
    "history = model.fit(x_train, y_train, verbose=0, epochs=600)"
   ]
  },
  {
   "cell_type": "code",
   "execution_count": 31,
   "metadata": {},
   "outputs": [
    {
     "output_type": "execute_result",
     "data": {
      "text/plain": [
       "[<matplotlib.lines.Line2D at 0x1d81ade8e88>]"
      ]
     },
     "metadata": {},
     "execution_count": 31
    },
    {
     "output_type": "display_data",
     "data": {
      "text/plain": "<Figure size 432x288 with 1 Axes>",
      "image/svg+xml": "<?xml version=\"1.0\" encoding=\"utf-8\" standalone=\"no\"?>\r\n<!DOCTYPE svg PUBLIC \"-//W3C//DTD SVG 1.1//EN\"\r\n  \"http://www.w3.org/Graphics/SVG/1.1/DTD/svg11.dtd\">\r\n<!-- Created with matplotlib (https://matplotlib.org/) -->\r\n<svg height=\"249.710859pt\" version=\"1.1\" viewBox=\"0 0 378.465625 249.710859\" width=\"378.465625pt\" xmlns=\"http://www.w3.org/2000/svg\" xmlns:xlink=\"http://www.w3.org/1999/xlink\">\r\n <metadata>\r\n  <rdf:RDF xmlns:cc=\"http://creativecommons.org/ns#\" xmlns:dc=\"http://purl.org/dc/elements/1.1/\" xmlns:rdf=\"http://www.w3.org/1999/02/22-rdf-syntax-ns#\">\r\n   <cc:Work>\r\n    <dc:type rdf:resource=\"http://purl.org/dc/dcmitype/StillImage\"/>\r\n    <dc:date>2021-03-04T08:40:00.157974</dc:date>\r\n    <dc:format>image/svg+xml</dc:format>\r\n    <dc:creator>\r\n     <cc:Agent>\r\n      <dc:title>Matplotlib v3.3.4, https://matplotlib.org/</dc:title>\r\n     </cc:Agent>\r\n    </dc:creator>\r\n   </cc:Work>\r\n  </rdf:RDF>\r\n </metadata>\r\n <defs>\r\n  <style type=\"text/css\">*{stroke-linecap:butt;stroke-linejoin:round;}</style>\r\n </defs>\r\n <g id=\"figure_1\">\r\n  <g id=\"patch_1\">\r\n   <path d=\"M 0 249.710859 \r\nL 378.465625 249.710859 \r\nL 378.465625 0 \r\nL 0 0 \r\nz\r\n\" style=\"fill:none;\"/>\r\n  </g>\r\n  <g id=\"axes_1\">\r\n   <g id=\"patch_2\">\r\n    <path d=\"M 36.465625 225.832734 \r\nL 371.265625 225.832734 \r\nL 371.265625 8.392734 \r\nL 36.465625 8.392734 \r\nz\r\n\" style=\"fill:#ffffff;\"/>\r\n   </g>\r\n   <g id=\"matplotlib.axis_1\">\r\n    <g id=\"xtick_1\">\r\n     <g id=\"line2d_1\">\r\n      <defs>\r\n       <path d=\"M 0 0 \r\nL 0 3.5 \r\n\" id=\"m27811e70e7\" style=\"stroke:#000000;stroke-width:0.8;\"/>\r\n      </defs>\r\n      <g>\r\n       <use style=\"stroke:#000000;stroke-width:0.8;\" x=\"51.683807\" xlink:href=\"#m27811e70e7\" y=\"225.832734\"/>\r\n      </g>\r\n     </g>\r\n     <g id=\"text_1\">\r\n      <!-- 0 -->\r\n      <g transform=\"translate(48.502557 240.431172)scale(0.1 -0.1)\">\r\n       <defs>\r\n        <path d=\"M 31.78125 66.40625 \r\nQ 24.171875 66.40625 20.328125 58.90625 \r\nQ 16.5 51.421875 16.5 36.375 \r\nQ 16.5 21.390625 20.328125 13.890625 \r\nQ 24.171875 6.390625 31.78125 6.390625 \r\nQ 39.453125 6.390625 43.28125 13.890625 \r\nQ 47.125 21.390625 47.125 36.375 \r\nQ 47.125 51.421875 43.28125 58.90625 \r\nQ 39.453125 66.40625 31.78125 66.40625 \r\nz\r\nM 31.78125 74.21875 \r\nQ 44.046875 74.21875 50.515625 64.515625 \r\nQ 56.984375 54.828125 56.984375 36.375 \r\nQ 56.984375 17.96875 50.515625 8.265625 \r\nQ 44.046875 -1.421875 31.78125 -1.421875 \r\nQ 19.53125 -1.421875 13.0625 8.265625 \r\nQ 6.59375 17.96875 6.59375 36.375 \r\nQ 6.59375 54.828125 13.0625 64.515625 \r\nQ 19.53125 74.21875 31.78125 74.21875 \r\nz\r\n\" id=\"DejaVuSans-48\"/>\r\n       </defs>\r\n       <use xlink:href=\"#DejaVuSans-48\"/>\r\n      </g>\r\n     </g>\r\n    </g>\r\n    <g id=\"xtick_2\">\r\n     <g id=\"line2d_2\">\r\n      <g>\r\n       <use style=\"stroke:#000000;stroke-width:0.8;\" x=\"102.495766\" xlink:href=\"#m27811e70e7\" y=\"225.832734\"/>\r\n      </g>\r\n     </g>\r\n     <g id=\"text_2\">\r\n      <!-- 100 -->\r\n      <g transform=\"translate(92.952016 240.431172)scale(0.1 -0.1)\">\r\n       <defs>\r\n        <path d=\"M 12.40625 8.296875 \r\nL 28.515625 8.296875 \r\nL 28.515625 63.921875 \r\nL 10.984375 60.40625 \r\nL 10.984375 69.390625 \r\nL 28.421875 72.90625 \r\nL 38.28125 72.90625 \r\nL 38.28125 8.296875 \r\nL 54.390625 8.296875 \r\nL 54.390625 0 \r\nL 12.40625 0 \r\nz\r\n\" id=\"DejaVuSans-49\"/>\r\n       </defs>\r\n       <use xlink:href=\"#DejaVuSans-49\"/>\r\n       <use x=\"63.623047\" xlink:href=\"#DejaVuSans-48\"/>\r\n       <use x=\"127.246094\" xlink:href=\"#DejaVuSans-48\"/>\r\n      </g>\r\n     </g>\r\n    </g>\r\n    <g id=\"xtick_3\">\r\n     <g id=\"line2d_3\">\r\n      <g>\r\n       <use style=\"stroke:#000000;stroke-width:0.8;\" x=\"153.307725\" xlink:href=\"#m27811e70e7\" y=\"225.832734\"/>\r\n      </g>\r\n     </g>\r\n     <g id=\"text_3\">\r\n      <!-- 200 -->\r\n      <g transform=\"translate(143.763975 240.431172)scale(0.1 -0.1)\">\r\n       <defs>\r\n        <path d=\"M 19.1875 8.296875 \r\nL 53.609375 8.296875 \r\nL 53.609375 0 \r\nL 7.328125 0 \r\nL 7.328125 8.296875 \r\nQ 12.9375 14.109375 22.625 23.890625 \r\nQ 32.328125 33.6875 34.8125 36.53125 \r\nQ 39.546875 41.84375 41.421875 45.53125 \r\nQ 43.3125 49.21875 43.3125 52.78125 \r\nQ 43.3125 58.59375 39.234375 62.25 \r\nQ 35.15625 65.921875 28.609375 65.921875 \r\nQ 23.96875 65.921875 18.8125 64.3125 \r\nQ 13.671875 62.703125 7.8125 59.421875 \r\nL 7.8125 69.390625 \r\nQ 13.765625 71.78125 18.9375 73 \r\nQ 24.125 74.21875 28.421875 74.21875 \r\nQ 39.75 74.21875 46.484375 68.546875 \r\nQ 53.21875 62.890625 53.21875 53.421875 \r\nQ 53.21875 48.921875 51.53125 44.890625 \r\nQ 49.859375 40.875 45.40625 35.40625 \r\nQ 44.1875 33.984375 37.640625 27.21875 \r\nQ 31.109375 20.453125 19.1875 8.296875 \r\nz\r\n\" id=\"DejaVuSans-50\"/>\r\n       </defs>\r\n       <use xlink:href=\"#DejaVuSans-50\"/>\r\n       <use x=\"63.623047\" xlink:href=\"#DejaVuSans-48\"/>\r\n       <use x=\"127.246094\" xlink:href=\"#DejaVuSans-48\"/>\r\n      </g>\r\n     </g>\r\n    </g>\r\n    <g id=\"xtick_4\">\r\n     <g id=\"line2d_4\">\r\n      <g>\r\n       <use style=\"stroke:#000000;stroke-width:0.8;\" x=\"204.119685\" xlink:href=\"#m27811e70e7\" y=\"225.832734\"/>\r\n      </g>\r\n     </g>\r\n     <g id=\"text_4\">\r\n      <!-- 300 -->\r\n      <g transform=\"translate(194.575935 240.431172)scale(0.1 -0.1)\">\r\n       <defs>\r\n        <path d=\"M 40.578125 39.3125 \r\nQ 47.65625 37.796875 51.625 33 \r\nQ 55.609375 28.21875 55.609375 21.1875 \r\nQ 55.609375 10.40625 48.1875 4.484375 \r\nQ 40.765625 -1.421875 27.09375 -1.421875 \r\nQ 22.515625 -1.421875 17.65625 -0.515625 \r\nQ 12.796875 0.390625 7.625 2.203125 \r\nL 7.625 11.71875 \r\nQ 11.71875 9.328125 16.59375 8.109375 \r\nQ 21.484375 6.890625 26.8125 6.890625 \r\nQ 36.078125 6.890625 40.9375 10.546875 \r\nQ 45.796875 14.203125 45.796875 21.1875 \r\nQ 45.796875 27.640625 41.28125 31.265625 \r\nQ 36.765625 34.90625 28.71875 34.90625 \r\nL 20.21875 34.90625 \r\nL 20.21875 43.015625 \r\nL 29.109375 43.015625 \r\nQ 36.375 43.015625 40.234375 45.921875 \r\nQ 44.09375 48.828125 44.09375 54.296875 \r\nQ 44.09375 59.90625 40.109375 62.90625 \r\nQ 36.140625 65.921875 28.71875 65.921875 \r\nQ 24.65625 65.921875 20.015625 65.03125 \r\nQ 15.375 64.15625 9.8125 62.3125 \r\nL 9.8125 71.09375 \r\nQ 15.4375 72.65625 20.34375 73.4375 \r\nQ 25.25 74.21875 29.59375 74.21875 \r\nQ 40.828125 74.21875 47.359375 69.109375 \r\nQ 53.90625 64.015625 53.90625 55.328125 \r\nQ 53.90625 49.265625 50.4375 45.09375 \r\nQ 46.96875 40.921875 40.578125 39.3125 \r\nz\r\n\" id=\"DejaVuSans-51\"/>\r\n       </defs>\r\n       <use xlink:href=\"#DejaVuSans-51\"/>\r\n       <use x=\"63.623047\" xlink:href=\"#DejaVuSans-48\"/>\r\n       <use x=\"127.246094\" xlink:href=\"#DejaVuSans-48\"/>\r\n      </g>\r\n     </g>\r\n    </g>\r\n    <g id=\"xtick_5\">\r\n     <g id=\"line2d_5\">\r\n      <g>\r\n       <use style=\"stroke:#000000;stroke-width:0.8;\" x=\"254.931644\" xlink:href=\"#m27811e70e7\" y=\"225.832734\"/>\r\n      </g>\r\n     </g>\r\n     <g id=\"text_5\">\r\n      <!-- 400 -->\r\n      <g transform=\"translate(245.387894 240.431172)scale(0.1 -0.1)\">\r\n       <defs>\r\n        <path d=\"M 37.796875 64.3125 \r\nL 12.890625 25.390625 \r\nL 37.796875 25.390625 \r\nz\r\nM 35.203125 72.90625 \r\nL 47.609375 72.90625 \r\nL 47.609375 25.390625 \r\nL 58.015625 25.390625 \r\nL 58.015625 17.1875 \r\nL 47.609375 17.1875 \r\nL 47.609375 0 \r\nL 37.796875 0 \r\nL 37.796875 17.1875 \r\nL 4.890625 17.1875 \r\nL 4.890625 26.703125 \r\nz\r\n\" id=\"DejaVuSans-52\"/>\r\n       </defs>\r\n       <use xlink:href=\"#DejaVuSans-52\"/>\r\n       <use x=\"63.623047\" xlink:href=\"#DejaVuSans-48\"/>\r\n       <use x=\"127.246094\" xlink:href=\"#DejaVuSans-48\"/>\r\n      </g>\r\n     </g>\r\n    </g>\r\n    <g id=\"xtick_6\">\r\n     <g id=\"line2d_6\">\r\n      <g>\r\n       <use style=\"stroke:#000000;stroke-width:0.8;\" x=\"305.743603\" xlink:href=\"#m27811e70e7\" y=\"225.832734\"/>\r\n      </g>\r\n     </g>\r\n     <g id=\"text_6\">\r\n      <!-- 500 -->\r\n      <g transform=\"translate(296.199853 240.431172)scale(0.1 -0.1)\">\r\n       <defs>\r\n        <path d=\"M 10.796875 72.90625 \r\nL 49.515625 72.90625 \r\nL 49.515625 64.59375 \r\nL 19.828125 64.59375 \r\nL 19.828125 46.734375 \r\nQ 21.96875 47.46875 24.109375 47.828125 \r\nQ 26.265625 48.1875 28.421875 48.1875 \r\nQ 40.625 48.1875 47.75 41.5 \r\nQ 54.890625 34.8125 54.890625 23.390625 \r\nQ 54.890625 11.625 47.5625 5.09375 \r\nQ 40.234375 -1.421875 26.90625 -1.421875 \r\nQ 22.3125 -1.421875 17.546875 -0.640625 \r\nQ 12.796875 0.140625 7.71875 1.703125 \r\nL 7.71875 11.625 \r\nQ 12.109375 9.234375 16.796875 8.0625 \r\nQ 21.484375 6.890625 26.703125 6.890625 \r\nQ 35.15625 6.890625 40.078125 11.328125 \r\nQ 45.015625 15.765625 45.015625 23.390625 \r\nQ 45.015625 31 40.078125 35.4375 \r\nQ 35.15625 39.890625 26.703125 39.890625 \r\nQ 22.75 39.890625 18.8125 39.015625 \r\nQ 14.890625 38.140625 10.796875 36.28125 \r\nz\r\n\" id=\"DejaVuSans-53\"/>\r\n       </defs>\r\n       <use xlink:href=\"#DejaVuSans-53\"/>\r\n       <use x=\"63.623047\" xlink:href=\"#DejaVuSans-48\"/>\r\n       <use x=\"127.246094\" xlink:href=\"#DejaVuSans-48\"/>\r\n      </g>\r\n     </g>\r\n    </g>\r\n    <g id=\"xtick_7\">\r\n     <g id=\"line2d_7\">\r\n      <g>\r\n       <use style=\"stroke:#000000;stroke-width:0.8;\" x=\"356.555563\" xlink:href=\"#m27811e70e7\" y=\"225.832734\"/>\r\n      </g>\r\n     </g>\r\n     <g id=\"text_7\">\r\n      <!-- 600 -->\r\n      <g transform=\"translate(347.011813 240.431172)scale(0.1 -0.1)\">\r\n       <defs>\r\n        <path d=\"M 33.015625 40.375 \r\nQ 26.375 40.375 22.484375 35.828125 \r\nQ 18.609375 31.296875 18.609375 23.390625 \r\nQ 18.609375 15.53125 22.484375 10.953125 \r\nQ 26.375 6.390625 33.015625 6.390625 \r\nQ 39.65625 6.390625 43.53125 10.953125 \r\nQ 47.40625 15.53125 47.40625 23.390625 \r\nQ 47.40625 31.296875 43.53125 35.828125 \r\nQ 39.65625 40.375 33.015625 40.375 \r\nz\r\nM 52.59375 71.296875 \r\nL 52.59375 62.3125 \r\nQ 48.875 64.0625 45.09375 64.984375 \r\nQ 41.3125 65.921875 37.59375 65.921875 \r\nQ 27.828125 65.921875 22.671875 59.328125 \r\nQ 17.53125 52.734375 16.796875 39.40625 \r\nQ 19.671875 43.65625 24.015625 45.921875 \r\nQ 28.375 48.1875 33.59375 48.1875 \r\nQ 44.578125 48.1875 50.953125 41.515625 \r\nQ 57.328125 34.859375 57.328125 23.390625 \r\nQ 57.328125 12.15625 50.6875 5.359375 \r\nQ 44.046875 -1.421875 33.015625 -1.421875 \r\nQ 20.359375 -1.421875 13.671875 8.265625 \r\nQ 6.984375 17.96875 6.984375 36.375 \r\nQ 6.984375 53.65625 15.1875 63.9375 \r\nQ 23.390625 74.21875 37.203125 74.21875 \r\nQ 40.921875 74.21875 44.703125 73.484375 \r\nQ 48.484375 72.75 52.59375 71.296875 \r\nz\r\n\" id=\"DejaVuSans-54\"/>\r\n       </defs>\r\n       <use xlink:href=\"#DejaVuSans-54\"/>\r\n       <use x=\"63.623047\" xlink:href=\"#DejaVuSans-48\"/>\r\n       <use x=\"127.246094\" xlink:href=\"#DejaVuSans-48\"/>\r\n      </g>\r\n     </g>\r\n    </g>\r\n   </g>\r\n   <g id=\"matplotlib.axis_2\">\r\n    <g id=\"ytick_1\">\r\n     <g id=\"line2d_8\">\r\n      <defs>\r\n       <path d=\"M 0 0 \r\nL -3.5 0 \r\n\" id=\"mae30afd1a2\" style=\"stroke:#000000;stroke-width:0.8;\"/>\r\n      </defs>\r\n      <g>\r\n       <use style=\"stroke:#000000;stroke-width:0.8;\" x=\"36.465625\" xlink:href=\"#mae30afd1a2\" y=\"198.246031\"/>\r\n      </g>\r\n     </g>\r\n     <g id=\"text_8\">\r\n      <!-- 0.35 -->\r\n      <g transform=\"translate(7.2 202.04525)scale(0.1 -0.1)\">\r\n       <defs>\r\n        <path d=\"M 10.6875 12.40625 \r\nL 21 12.40625 \r\nL 21 0 \r\nL 10.6875 0 \r\nz\r\n\" id=\"DejaVuSans-46\"/>\r\n       </defs>\r\n       <use xlink:href=\"#DejaVuSans-48\"/>\r\n       <use x=\"63.623047\" xlink:href=\"#DejaVuSans-46\"/>\r\n       <use x=\"95.410156\" xlink:href=\"#DejaVuSans-51\"/>\r\n       <use x=\"159.033203\" xlink:href=\"#DejaVuSans-53\"/>\r\n      </g>\r\n     </g>\r\n    </g>\r\n    <g id=\"ytick_2\">\r\n     <g id=\"line2d_9\">\r\n      <g>\r\n       <use style=\"stroke:#000000;stroke-width:0.8;\" x=\"36.465625\" xlink:href=\"#mae30afd1a2\" y=\"151.434328\"/>\r\n      </g>\r\n     </g>\r\n     <g id=\"text_9\">\r\n      <!-- 0.40 -->\r\n      <g transform=\"translate(7.2 155.233547)scale(0.1 -0.1)\">\r\n       <use xlink:href=\"#DejaVuSans-48\"/>\r\n       <use x=\"63.623047\" xlink:href=\"#DejaVuSans-46\"/>\r\n       <use x=\"95.410156\" xlink:href=\"#DejaVuSans-52\"/>\r\n       <use x=\"159.033203\" xlink:href=\"#DejaVuSans-48\"/>\r\n      </g>\r\n     </g>\r\n    </g>\r\n    <g id=\"ytick_3\">\r\n     <g id=\"line2d_10\">\r\n      <g>\r\n       <use style=\"stroke:#000000;stroke-width:0.8;\" x=\"36.465625\" xlink:href=\"#mae30afd1a2\" y=\"104.622625\"/>\r\n      </g>\r\n     </g>\r\n     <g id=\"text_10\">\r\n      <!-- 0.45 -->\r\n      <g transform=\"translate(7.2 108.421844)scale(0.1 -0.1)\">\r\n       <use xlink:href=\"#DejaVuSans-48\"/>\r\n       <use x=\"63.623047\" xlink:href=\"#DejaVuSans-46\"/>\r\n       <use x=\"95.410156\" xlink:href=\"#DejaVuSans-52\"/>\r\n       <use x=\"159.033203\" xlink:href=\"#DejaVuSans-53\"/>\r\n      </g>\r\n     </g>\r\n    </g>\r\n    <g id=\"ytick_4\">\r\n     <g id=\"line2d_11\">\r\n      <g>\r\n       <use style=\"stroke:#000000;stroke-width:0.8;\" x=\"36.465625\" xlink:href=\"#mae30afd1a2\" y=\"57.810922\"/>\r\n      </g>\r\n     </g>\r\n     <g id=\"text_11\">\r\n      <!-- 0.50 -->\r\n      <g transform=\"translate(7.2 61.610141)scale(0.1 -0.1)\">\r\n       <use xlink:href=\"#DejaVuSans-48\"/>\r\n       <use x=\"63.623047\" xlink:href=\"#DejaVuSans-46\"/>\r\n       <use x=\"95.410156\" xlink:href=\"#DejaVuSans-53\"/>\r\n       <use x=\"159.033203\" xlink:href=\"#DejaVuSans-48\"/>\r\n      </g>\r\n     </g>\r\n    </g>\r\n    <g id=\"ytick_5\">\r\n     <g id=\"line2d_12\">\r\n      <g>\r\n       <use style=\"stroke:#000000;stroke-width:0.8;\" x=\"36.465625\" xlink:href=\"#mae30afd1a2\" y=\"10.999219\"/>\r\n      </g>\r\n     </g>\r\n     <g id=\"text_12\">\r\n      <!-- 0.55 -->\r\n      <g transform=\"translate(7.2 14.798437)scale(0.1 -0.1)\">\r\n       <use xlink:href=\"#DejaVuSans-48\"/>\r\n       <use x=\"63.623047\" xlink:href=\"#DejaVuSans-46\"/>\r\n       <use x=\"95.410156\" xlink:href=\"#DejaVuSans-53\"/>\r\n       <use x=\"159.033203\" xlink:href=\"#DejaVuSans-53\"/>\r\n      </g>\r\n     </g>\r\n    </g>\r\n   </g>\r\n   <g id=\"line2d_13\">\r\n    <path clip-path=\"url(#p115efdea78)\" d=\"M 51.683807 18.276371 \r\nL 52.700046 183.761688 \r\nL 53.208166 184.461413 \r\nL 53.716285 184.111551 \r\nL 54.224405 184.461413 \r\nL 71.500471 184.461413 \r\nL 72.51671 185.161139 \r\nL 73.02483 184.461413 \r\nL 73.532949 185.161139 \r\nL 74.041069 185.161139 \r\nL 74.549189 184.811276 \r\nL 75.057308 185.161139 \r\nL 75.565428 186.210726 \r\nL 76.073547 187.610176 \r\nL 76.581667 185.161139 \r\nL 77.089786 187.960039 \r\nL 78.614145 186.910451 \r\nL 79.122265 187.610176 \r\nL 79.630384 187.610176 \r\nL 80.138504 189.009654 \r\nL 80.646624 186.910451 \r\nL 81.154743 185.511001 \r\nL 81.662863 187.960039 \r\nL 82.170982 189.009654 \r\nL 82.679102 187.960039 \r\nL 83.187222 187.610176 \r\nL 83.695341 184.811276 \r\nL 84.203461 187.260314 \r\nL 84.71158 187.260314 \r\nL 85.72782 188.659792 \r\nL 86.235939 191.10883 \r\nL 86.744059 185.860864 \r\nL 87.252178 190.409105 \r\nL 87.760298 185.860864 \r\nL 88.268418 190.758967 \r\nL 88.776537 190.409105 \r\nL 89.284657 188.309901 \r\nL 89.792776 192.858142 \r\nL 90.300896 191.808555 \r\nL 90.809015 189.009654 \r\nL 91.317135 191.458692 \r\nL 91.825255 190.758967 \r\nL 92.333374 194.257593 \r\nL 92.841494 191.10883 \r\nL 93.349613 195.30718 \r\nL 93.857733 191.458692 \r\nL 94.365853 190.059242 \r\nL 94.873972 195.657043 \r\nL 95.382092 189.359517 \r\nL 95.890211 190.059242 \r\nL 96.398331 192.158417 \r\nL 96.906451 192.50828 \r\nL 97.41457 193.208005 \r\nL 97.92269 191.458692 \r\nL 98.430809 194.607455 \r\nL 98.938929 193.557867 \r\nL 99.447049 189.709379 \r\nL 99.955168 196.006905 \r\nL 100.463288 192.858142 \r\nL 100.971407 192.50828 \r\nL 101.479527 194.957318 \r\nL 101.987647 193.557867 \r\nL 102.495766 194.607455 \r\nL 103.003886 197.756218 \r\nL 103.512005 194.257593 \r\nL 104.020125 194.607455 \r\nL 104.528245 195.657043 \r\nL 105.036364 196.356768 \r\nL 105.544484 195.30718 \r\nL 106.052603 197.756218 \r\nL 106.560723 196.70663 \r\nL 107.068842 193.208005 \r\nL 107.576962 196.70663 \r\nL 108.085082 196.356768 \r\nL 109.101321 197.056493 \r\nL 109.60944 195.657043 \r\nL 110.11756 197.406355 \r\nL 110.62568 196.006905 \r\nL 111.133799 197.056493 \r\nL 111.641919 198.455943 \r\nL 112.150038 195.30718 \r\nL 112.658158 196.356768 \r\nL 113.166278 194.957318 \r\nL 113.674397 196.356768 \r\nL 114.182517 198.805806 \r\nL 114.690636 196.70663 \r\nL 115.198756 197.406355 \r\nL 115.706876 198.805806 \r\nL 116.214995 198.805806 \r\nL 116.723115 196.70663 \r\nL 117.231234 197.756218 \r\nL 117.739354 196.006905 \r\nL 118.247474 196.356768 \r\nL 118.755593 199.155668 \r\nL 119.771832 195.30718 \r\nL 120.279952 201.604706 \r\nL 120.788072 194.257593 \r\nL 121.296191 195.30718 \r\nL 121.804311 197.056493 \r\nL 122.31243 198.10608 \r\nL 123.328669 201.604706 \r\nL 123.836789 199.505531 \r\nL 124.344909 199.155668 \r\nL 124.853028 199.155668 \r\nL 125.361148 200.205256 \r\nL 126.377387 200.904981 \r\nL 126.885507 199.505531 \r\nL 127.393626 199.505531 \r\nL 127.901746 201.954568 \r\nL 128.409865 206.152947 \r\nL 128.917985 201.604706 \r\nL 129.426105 203.004184 \r\nL 129.934224 201.604706 \r\nL 130.442344 202.304431 \r\nL 130.950463 200.205256 \r\nL 131.458583 203.703909 \r\nL 131.966703 203.004184 \r\nL 132.474822 204.053772 \r\nL 132.982942 203.354047 \r\nL 133.491061 205.103359 \r\nL 133.999181 203.703909 \r\nL 134.507301 203.703909 \r\nL 135.01542 201.954568 \r\nL 135.52354 206.852672 \r\nL 136.031659 201.604706 \r\nL 136.539779 204.403634 \r\nL 137.047898 201.954568 \r\nL 137.556018 205.803084 \r\nL 138.064138 207.552397 \r\nL 138.572257 201.954568 \r\nL 139.080377 201.254843 \r\nL 139.588496 198.455943 \r\nL 140.096616 206.852672 \r\nL 140.604736 203.354047 \r\nL 141.112855 200.904981 \r\nL 141.620975 205.453222 \r\nL 142.129094 204.753497 \r\nL 142.637214 204.403634 \r\nL 143.145334 204.753497 \r\nL 143.653453 203.004184 \r\nL 144.161573 202.304431 \r\nL 144.669692 202.654321 \r\nL 145.177812 200.904981 \r\nL 145.685932 201.954568 \r\nL 146.194051 204.403634 \r\nL 146.702171 203.703909 \r\nL 147.21029 205.103359 \r\nL 147.71841 207.90226 \r\nL 148.22653 205.103359 \r\nL 148.734649 206.502809 \r\nL 149.242769 205.453222 \r\nL 149.750888 204.753497 \r\nL 150.259008 202.304431 \r\nL 150.767128 205.453222 \r\nL 151.783367 204.753497 \r\nL 152.291486 206.502809 \r\nL 152.799606 204.753497 \r\nL 153.307725 207.202535 \r\nL 153.815845 207.202535 \r\nL 154.323965 204.753497 \r\nL 154.832084 201.254843 \r\nL 155.340204 201.604706 \r\nL 155.848323 205.803084 \r\nL 156.356443 204.053772 \r\nL 156.864563 204.403634 \r\nL 157.372682 205.103359 \r\nL 157.880802 207.202535 \r\nL 158.897041 199.505531 \r\nL 159.91328 207.552397 \r\nL 160.4214 199.855393 \r\nL 161.437639 205.803084 \r\nL 161.945759 204.753497 \r\nL 162.453878 206.502809 \r\nL 162.961998 200.205256 \r\nL 163.470117 206.502809 \r\nL 163.978237 206.502809 \r\nL 164.994476 203.354047 \r\nL 165.502596 202.654321 \r\nL 166.010715 206.152947 \r\nL 166.518835 207.90226 \r\nL 167.026954 203.354047 \r\nL 167.535074 208.252122 \r\nL 168.043194 202.654321 \r\nL 168.551313 207.202535 \r\nL 169.059433 204.753497 \r\nL 169.567552 207.90226 \r\nL 170.075672 205.103359 \r\nL 170.583792 207.552397 \r\nL 171.091911 206.502809 \r\nL 171.600031 205.103359 \r\nL 172.10815 205.803084 \r\nL 172.61627 207.202535 \r\nL 173.12439 206.852672 \r\nL 173.632509 207.552397 \r\nL 174.140629 208.951847 \r\nL 174.648748 203.004184 \r\nL 175.156868 206.502809 \r\nL 175.664988 202.304431 \r\nL 176.173107 207.90226 \r\nL 176.681227 205.803084 \r\nL 177.189346 206.852672 \r\nL 177.697466 205.453222 \r\nL 178.205586 200.904981 \r\nL 178.713705 206.152947 \r\nL 179.221825 206.152947 \r\nL 179.729944 205.453222 \r\nL 180.746184 199.505531 \r\nL 181.254303 204.403634 \r\nL 182.270542 208.252122 \r\nL 182.778662 206.852672 \r\nL 183.286781 207.552397 \r\nL 183.794901 205.103359 \r\nL 184.303021 206.152947 \r\nL 184.81114 203.354047 \r\nL 185.31926 204.053772 \r\nL 185.827379 205.453222 \r\nL 186.335499 204.403634 \r\nL 186.843619 205.103359 \r\nL 187.351738 206.502809 \r\nL 187.859858 208.601985 \r\nL 188.367977 205.803084 \r\nL 188.876097 204.053772 \r\nL 189.384217 206.152947 \r\nL 189.892336 205.803084 \r\nL 190.400456 207.552397 \r\nL 190.908575 205.803084 \r\nL 191.416695 206.502809 \r\nL 191.924815 204.403634 \r\nL 192.432934 205.453222 \r\nL 192.941054 205.803084 \r\nL 193.449173 204.403634 \r\nL 193.957293 207.552397 \r\nL 194.465413 206.502809 \r\nL 194.973532 204.403634 \r\nL 195.481652 205.803084 \r\nL 195.989771 206.502809 \r\nL 196.497891 207.552397 \r\nL 197.00601 204.403634 \r\nL 197.51413 205.803084 \r\nL 198.02225 204.053772 \r\nL 198.530369 204.753497 \r\nL 199.038489 203.703909 \r\nL 199.546608 208.252122 \r\nL 200.054728 207.202535 \r\nL 200.562848 206.852672 \r\nL 201.070967 204.053772 \r\nL 201.579087 204.053772 \r\nL 202.595326 205.453222 \r\nL 203.103446 204.403634 \r\nL 203.611565 200.555118 \r\nL 204.119685 205.803084 \r\nL 204.627804 204.753497 \r\nL 205.135924 207.202535 \r\nL 206.152163 202.654321 \r\nL 206.660283 205.803084 \r\nL 207.168402 204.403634 \r\nL 207.676522 204.403634 \r\nL 208.184642 203.004184 \r\nL 208.692761 207.90226 \r\nL 209.200881 205.103359 \r\nL 209.709 203.004184 \r\nL 210.21712 205.453222 \r\nL 210.72524 204.403634 \r\nL 211.233359 207.90226 \r\nL 211.741479 204.053772 \r\nL 212.249598 209.30171 \r\nL 212.757718 206.852672 \r\nL 213.265837 208.601985 \r\nL 213.773957 205.453222 \r\nL 214.282077 209.30171 \r\nL 214.790196 206.852672 \r\nL 215.298316 210.001435 \r\nL 215.806435 207.202535 \r\nL 216.822675 205.803084 \r\nL 217.330794 204.753497 \r\nL 217.838914 205.103359 \r\nL 218.347033 208.601985 \r\nL 218.855153 207.90226 \r\nL 219.363273 209.30171 \r\nL 219.871392 207.552397 \r\nL 220.379512 207.202535 \r\nL 220.887631 207.552397 \r\nL 221.395751 207.202535 \r\nL 221.903871 207.202535 \r\nL 222.41199 204.403634 \r\nL 222.92011 205.803084 \r\nL 223.428229 201.954568 \r\nL 223.936349 207.552397 \r\nL 224.444469 207.90226 \r\nL 224.952588 205.103359 \r\nL 225.968827 207.202535 \r\nL 226.476947 206.852672 \r\nL 226.985066 206.152947 \r\nL 227.493186 202.654321 \r\nL 228.001306 200.904981 \r\nL 228.509425 205.453222 \r\nL 229.017545 206.502809 \r\nL 229.525664 206.852672 \r\nL 230.541904 206.152947 \r\nL 231.050023 201.954568 \r\nL 231.558143 208.601985 \r\nL 232.066262 205.453222 \r\nL 232.574382 207.202535 \r\nL 233.082502 206.152947 \r\nL 233.590621 206.502809 \r\nL 234.098741 203.354047 \r\nL 234.60686 210.70116 \r\nL 235.11498 208.601985 \r\nL 235.6231 207.202535 \r\nL 236.131219 206.852672 \r\nL 236.639339 206.152947 \r\nL 237.147458 209.651572 \r\nL 237.655578 206.152947 \r\nL 238.163698 204.403634 \r\nL 238.671817 206.852672 \r\nL 239.179937 206.852672 \r\nL 240.196176 207.552397 \r\nL 240.704296 203.004184 \r\nL 241.212415 206.152947 \r\nL 241.720535 206.152947 \r\nL 242.228654 203.004184 \r\nL 242.736774 207.552397 \r\nL 243.244893 207.90226 \r\nL 243.753013 205.103359 \r\nL 244.261133 207.202535 \r\nL 244.769252 207.552397 \r\nL 245.785491 202.654321 \r\nL 246.293611 206.852672 \r\nL 246.801731 206.852672 \r\nL 247.30985 207.552397 \r\nL 247.81797 207.552397 \r\nL 248.326089 207.202535 \r\nL 248.834209 204.053772 \r\nL 249.342329 207.552397 \r\nL 249.850448 207.202535 \r\nL 250.358568 210.70116 \r\nL 250.866687 206.502809 \r\nL 251.374807 206.502809 \r\nL 251.882927 206.152947 \r\nL 252.391046 208.601985 \r\nL 252.899166 207.552397 \r\nL 253.407285 203.703909 \r\nL 253.915405 205.803084 \r\nL 254.423525 207.202535 \r\nL 254.931644 206.852672 \r\nL 255.439764 206.852672 \r\nL 255.947883 208.951847 \r\nL 256.964122 203.004184 \r\nL 257.472242 201.604706 \r\nL 257.980362 206.152947 \r\nL 258.488481 207.90226 \r\nL 258.996601 208.601985 \r\nL 259.50472 206.152947 \r\nL 260.01284 205.453222 \r\nL 261.029079 211.400885 \r\nL 261.537199 205.453222 \r\nL 262.045318 207.552397 \r\nL 262.553438 207.202535 \r\nL 263.061558 209.651572 \r\nL 263.569677 207.552397 \r\nL 264.077797 208.252122 \r\nL 264.585916 207.90226 \r\nL 265.094036 208.601985 \r\nL 265.602156 206.152947 \r\nL 266.110275 208.252122 \r\nL 266.618395 208.951847 \r\nL 267.126514 210.001435 \r\nL 267.634634 207.90226 \r\nL 268.142754 207.90226 \r\nL 268.650873 204.753497 \r\nL 269.158993 206.152947 \r\nL 269.667112 206.502809 \r\nL 270.175232 203.703909 \r\nL 270.683352 206.502809 \r\nL 271.699591 207.202535 \r\nL 272.20771 204.753497 \r\nL 272.71583 206.502809 \r\nL 273.223949 206.502809 \r\nL 273.732069 206.852672 \r\nL 274.240189 203.004184 \r\nL 274.748308 206.852672 \r\nL 275.256428 207.90226 \r\nL 275.764547 206.502809 \r\nL 276.272667 207.90226 \r\nL 276.780787 208.601985 \r\nL 277.288906 208.252122 \r\nL 277.797026 207.552397 \r\nL 278.305145 202.654321 \r\nL 278.813265 207.202535 \r\nL 279.321385 208.601985 \r\nL 279.829504 209.30171 \r\nL 280.337624 208.951847 \r\nL 280.845743 208.252122 \r\nL 281.353863 207.90226 \r\nL 281.861983 208.951847 \r\nL 282.370102 207.90226 \r\nL 282.878222 206.152947 \r\nL 283.386341 207.90226 \r\nL 283.894461 208.252122 \r\nL 284.402581 210.001435 \r\nL 284.9107 208.951847 \r\nL 285.41882 207.552397 \r\nL 285.926939 207.202535 \r\nL 286.943178 211.400885 \r\nL 287.451298 203.354047 \r\nL 287.959418 210.001435 \r\nL 288.467537 210.001435 \r\nL 288.975657 208.951847 \r\nL 289.483776 205.803084 \r\nL 289.991896 208.601985 \r\nL 290.500016 208.951847 \r\nL 291.008135 207.552397 \r\nL 291.516255 210.001435 \r\nL 292.024374 209.30171 \r\nL 292.532494 209.651572 \r\nL 293.040614 205.803084 \r\nL 293.548733 209.651572 \r\nL 294.056853 209.30171 \r\nL 294.564972 210.001435 \r\nL 295.073092 208.951847 \r\nL 295.581212 208.951847 \r\nL 296.089331 210.001435 \r\nL 296.597451 207.90226 \r\nL 297.10557 207.90226 \r\nL 297.61369 207.552397 \r\nL 298.12181 207.552397 \r\nL 299.138049 206.852672 \r\nL 299.646168 209.651572 \r\nL 300.154288 207.90226 \r\nL 300.662408 213.150198 \r\nL 301.170527 207.90226 \r\nL 301.678647 206.502809 \r\nL 302.186766 208.601985 \r\nL 302.694886 209.651572 \r\nL 303.203005 206.502809 \r\nL 303.711125 208.601985 \r\nL 304.219245 209.30171 \r\nL 305.235484 208.601985 \r\nL 305.743603 207.90226 \r\nL 306.251723 205.453222 \r\nL 306.759843 207.202535 \r\nL 307.267962 207.90226 \r\nL 307.776082 209.30171 \r\nL 308.284201 211.750748 \r\nL 308.792321 211.400885 \r\nL 309.300441 212.10061 \r\nL 309.80856 209.651572 \r\nL 310.31668 209.651572 \r\nL 310.824799 208.601985 \r\nL 311.332919 207.90226 \r\nL 312.349158 207.90226 \r\nL 312.857278 210.70116 \r\nL 313.365397 209.30171 \r\nL 313.873517 210.70116 \r\nL 314.381637 209.30171 \r\nL 314.889756 210.70116 \r\nL 315.397876 207.90226 \r\nL 315.905995 209.651572 \r\nL 316.414115 209.651572 \r\nL 316.922235 207.552397 \r\nL 317.430354 209.651572 \r\nL 317.938474 210.351297 \r\nL 318.446593 211.750748 \r\nL 318.954713 205.453222 \r\nL 319.462832 211.400885 \r\nL 319.970952 210.001435 \r\nL 320.479072 211.750748 \r\nL 320.987191 209.651572 \r\nL 321.495311 208.951847 \r\nL 322.00343 208.601985 \r\nL 322.51155 210.001435 \r\nL 323.01967 210.351297 \r\nL 323.527789 211.750748 \r\nL 324.035909 210.70116 \r\nL 324.544028 210.351297 \r\nL 325.052148 208.951847 \r\nL 325.560268 208.601985 \r\nL 326.068387 207.90226 \r\nL 326.576507 208.951847 \r\nL 327.084626 211.051022 \r\nL 327.592746 207.90226 \r\nL 328.100866 207.202535 \r\nL 328.608985 213.150198 \r\nL 329.117105 207.202535 \r\nL 329.625224 208.252122 \r\nL 330.133344 211.051022 \r\nL 330.641464 210.001435 \r\nL 331.149583 211.400885 \r\nL 331.657703 208.601985 \r\nL 332.165822 211.750748 \r\nL 332.673942 210.001435 \r\nL 333.182061 208.951847 \r\nL 334.198301 213.849923 \r\nL 334.70642 209.30171 \r\nL 335.21454 211.051022 \r\nL 335.722659 210.351297 \r\nL 336.230779 203.703909 \r\nL 336.738899 211.400885 \r\nL 337.247018 210.001435 \r\nL 337.755138 211.051022 \r\nL 338.263257 214.549648 \r\nL 338.771377 211.400885 \r\nL 339.279497 213.50006 \r\nL 339.787616 213.150198 \r\nL 340.295736 210.351297 \r\nL 340.803855 214.549648 \r\nL 341.311975 212.450473 \r\nL 341.820095 212.10061 \r\nL 342.328214 209.30171 \r\nL 342.836334 210.001435 \r\nL 343.344453 215.249373 \r\nL 343.852573 208.951847 \r\nL 344.360693 210.70116 \r\nL 344.868812 206.852672 \r\nL 345.376932 210.351297 \r\nL 345.885051 212.450473 \r\nL 346.393171 209.30171 \r\nL 346.901291 211.750748 \r\nL 347.40941 215.249373 \r\nL 347.91753 208.951847 \r\nL 348.933769 213.50006 \r\nL 349.441888 210.001435 \r\nL 350.458128 212.800335 \r\nL 350.966247 212.450473 \r\nL 351.474367 213.150198 \r\nL 351.982486 211.750748 \r\nL 352.490606 212.800335 \r\nL 352.998726 208.601985 \r\nL 353.506845 209.651572 \r\nL 354.014965 213.50006 \r\nL 354.523084 212.450473 \r\nL 355.031204 215.599236 \r\nL 355.539324 210.351297 \r\nL 356.047443 215.949098 \r\nL 356.047443 215.949098 \r\n\" style=\"fill:none;stroke:#1f77b4;stroke-linecap:square;stroke-width:1.5;\"/>\r\n   </g>\r\n   <g id=\"patch_3\">\r\n    <path d=\"M 36.465625 225.832734 \r\nL 36.465625 8.392734 \r\n\" style=\"fill:none;stroke:#000000;stroke-linecap:square;stroke-linejoin:miter;stroke-width:0.8;\"/>\r\n   </g>\r\n   <g id=\"patch_4\">\r\n    <path d=\"M 371.265625 225.832734 \r\nL 371.265625 8.392734 \r\n\" style=\"fill:none;stroke:#000000;stroke-linecap:square;stroke-linejoin:miter;stroke-width:0.8;\"/>\r\n   </g>\r\n   <g id=\"patch_5\">\r\n    <path d=\"M 36.465625 225.832734 \r\nL 371.265625 225.832734 \r\n\" style=\"fill:none;stroke:#000000;stroke-linecap:square;stroke-linejoin:miter;stroke-width:0.8;\"/>\r\n   </g>\r\n   <g id=\"patch_6\">\r\n    <path d=\"M 36.465625 8.392734 \r\nL 371.265625 8.392734 \r\n\" style=\"fill:none;stroke:#000000;stroke-linecap:square;stroke-linejoin:miter;stroke-width:0.8;\"/>\r\n   </g>\r\n  </g>\r\n </g>\r\n <defs>\r\n  <clipPath id=\"p115efdea78\">\r\n   <rect height=\"217.44\" width=\"334.8\" x=\"36.465625\" y=\"8.392734\"/>\r\n  </clipPath>\r\n </defs>\r\n</svg>\r\n",
      "image/png": "[encoded data removed]"
     },
     "metadata": {
      "needs_background": "light"
     }
    }
   ],
   "source": [
    "import matplotlib.pyplot as plt\n",
    "\n",
    "plt.plot(history.history[\"hamming_loss\"])"
   ]
  },
  {
   "cell_type": "code",
   "execution_count": 169,
   "metadata": {},
   "outputs": [
    {
     "output_type": "execute_result",
     "data": {
      "text/plain": [
       "array([[0.10087365, 0.79002213, 0.35903656, 0.15015492],\n",
       "       [0.25807378, 0.47197703, 0.4285428 , 0.32059854],\n",
       "       [0.06975549, 0.30648285, 0.2661515 , 0.59637856]], dtype=float32)"
      ]
     },
     "metadata": {},
     "execution_count": 169
    }
   ],
   "source": [
    "model.predict(np.array([[\n",
    "        0.07886042065009584,\n",
    "        0.14055717017208438,\n",
    "        0.046357552581262014,\n",
    "        0.0999644359464626,\n",
    "        0.16190516252390144,\n",
    "        0.08229292543021047,\n",
    "        0.059352963671128196,\n",
    "        0.16139617590822164\n",
    "      ],[\n",
    "        0.0876876332622601,\n",
    "        0.11341151385927517,\n",
    "        0.042800639658848595,\n",
    "        0.11864765458422175,\n",
    "        0.15406289978678045,\n",
    "        0.10176759061833693,\n",
    "        0.04780597014925365,\n",
    "        0.17779317697228159\n",
    "      ],[\n",
    "        0.05391297208538589,\n",
    "        0.10879474548440066,\n",
    "        0.043482758620689635,\n",
    "        0.09275615763546799,\n",
    "        0.1309581280788178,\n",
    "        0.09154844006568143,\n",
    "        0.051869458128078805,\n",
    "        0.15095566502463056\n",
    "      ]]))"
   ]
  }
 ]
}