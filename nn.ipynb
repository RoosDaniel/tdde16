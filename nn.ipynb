{
 "metadata": {
  "language_info": {
   "codemirror_mode": {
    "name": "ipython",
    "version": 3
   },
   "file_extension": ".py",
   "mimetype": "text/x-python",
   "name": "python",
   "nbconvert_exporter": "python",
   "pygments_lexer": "ipython3",
   "version": "3.7.5-final"
  },
  "orig_nbformat": 2,
  "kernelspec": {
   "name": "python3",
   "display_name": "Python 3.7.5 64-bit ('venv')",
   "metadata": {
    "interpreter": {
     "hash": "dfb3cdb93a2a6d326e280b61be2c150b10efd4f8f800f0b464dac8c6699df2f5"
    }
   }
  }
 },
 "nbformat": 4,
 "nbformat_minor": 2,
 "cells": [
  {
   "cell_type": "code",
   "execution_count": 1,
   "metadata": {},
   "outputs": [],
   "source": [
    "import numpy as np\n",
    "\n",
    "# TODO Remove all that have more than 1 class and train in a single-labeled way instead\n",
    "# Do filtering here, and copy notebook instead.\n",
    "\n",
    "\n",
    "def split_test_train(data, train_perc):\n",
    "    train_num = int(len(data)*train_perc)\n",
    "\n",
    "    return (\n",
    "        (\n",
    "            np.array([t[\"emotions\"] for t in data[:train_num]]),\n",
    "            np.array([t[\"genres\"] for t in data[:train_num]])\n",
    "        ),\n",
    "        (\n",
    "            np.array([t[\"emotions\"] for t in data[train_num:]]),\n",
    "            np.array([t[\"genres\"] for t in data[train_num:]])\n",
    "        )\n",
    "    )\n",
    "\n",
    "\n",
    "def split_x_y(data):\n",
    "    return (\n",
    "        np.array([t[\"emotions\"] for t in data]),\n",
    "        np.array([t[\"genres\"] for t in data])\n",
    "    )"
   ]
  },
  {
   "cell_type": "code",
   "execution_count": 2,
   "metadata": {},
   "outputs": [],
   "source": [
    "import tensorflow as tf\n",
    "import tensorflow_addons as tfa\n",
    "\n",
    "from tensorflow.keras import Sequential\n",
    "from tensorflow.keras.layers import Dense\n",
    "\n",
    "\n",
    "tf.keras.backend.clear_session()\n",
    "tf.get_logger().setLevel(\"ERROR\")\n",
    "\n",
    "\n",
    "def get_model(input_dim, hidden_dim, output_dim, lr=0.01):\n",
    "    if hidden_dim:\n",
    "        model = Sequential([\n",
    "            Dense(hidden_dim[0], input_dim=input_dim, activation='relu')\n",
    "        ])\n",
    "\n",
    "        for h in hidden_dim[1:]:\n",
    "            model.add(Dense(h, activation=\"relu\"))\n",
    "        model.add(Dense(output_dim, activation='sigmoid'))\n",
    "    else:\n",
    "        model = Sequential([\n",
    "            Dense(output_dim, input_dim=input_dim, activation='sigmoid')\n",
    "        ])\n",
    "    \n",
    "    hamming_loss = tfa.metrics.HammingLoss(mode=\"multilabel\", threshold=.5)\n",
    "    optimizer = tf.keras.optimizers.Adam(learning_rate=lr)\n",
    "    model.compile(loss=\"binary_crossentropy\", optimizer=optimizer, metrics=[hamming_loss])\n",
    "    return model"
   ]
  },
  {
   "cell_type": "code",
   "execution_count": 3,
   "metadata": {},
   "outputs": [],
   "source": [
    "from sklearn.metrics import hamming_loss as sk_hamming_loss, f1_score as sk_f1_score\n",
    "from sklearn.model_selection import RepeatedKFold\n",
    "\n",
    "\n",
    "def hamming_loss(y_pred, y_true):\n",
    "    return sk_hamming_loss(y_true, y_pred)\n",
    "\n",
    "\n",
    "def f1_score(y_pred, y_true):\n",
    "    return sk_f1_score(y_true, y_pred, average=\"weighted\")\n",
    "\n",
    "\n",
    "def evaluate(x, y, threshold=.5):\n",
    "    hamming_losses = []\n",
    "    f1_scores = []\n",
    "    input_dim, output_dim = x.shape[1], y.shape[1]\n",
    "\n",
    "    cv = RepeatedKFold(n_splits=10, n_repeats=3, random_state=1)\n",
    "\n",
    "    for i, (train_i, test_i) in enumerate(cv.split(x)):\n",
    "        x_train, x_test = x[train_i], x[test_i]\n",
    "        y_train, y_test = y[train_i], y[test_i]\n",
    "\n",
    "        model = get_model(input_dim=input_dim, hidden_dim=[20], output_dim=output_dim, lr=0.01)\n",
    "        history = model.fit(x_train, y_train, verbose=0, epochs=100)\n",
    "    \n",
    "        y_pred = model.predict(x_test)\n",
    "        binary_pred = [[round(y_val-threshold+.5) for y_val in pred] for pred in y_pred]\n",
    "\n",
    "        hamming_losses.append(hamming_loss(binary_pred, y_test))\n",
    "        f1_scores.append(f1_score(binary_pred, y_test))\n",
    "\n",
    "        print(\"%s: %.3f\" % (i+1, f1_scores[-1]))\n",
    "\n",
    "        # acc = rounding_acc(model, x_test, y_test)\n",
    "        # results.append(acc)\n",
    "\n",
    "        # print(\"%s: %.3f\" % (i, mean(results)))\n",
    "    return hamming_losses, f1_scores"
   ]
  },
  {
   "cell_type": "code",
   "execution_count": 4,
   "metadata": {},
   "outputs": [],
   "source": [
    "import json\n",
    "\n",
    "\n",
    "with open(\"nrc/nrc_vect.json\") as file:\n",
    "    data = json.load(file)\n",
    "\n",
    "x, y = split_x_y(data[\"movies\"])\n",
    "labels = data[\"genre_order\"]"
   ]
  },
  {
   "cell_type": "code",
   "execution_count": 5,
   "metadata": {
    "tags": []
   },
   "outputs": [
    {
     "output_type": "stream",
     "name": "stdout",
     "text": [
      "1: 0.556\n",
      "2: 0.482\n",
      "3: 0.570\n",
      "4: 0.496\n",
      "5: 0.518\n",
      "6: 0.534\n",
      "7: 0.512\n",
      "8: 0.560\n",
      "9: 0.630\n",
      "10: 0.609\n",
      "11: 0.604\n",
      "12: 0.600\n",
      "13: 0.529\n",
      "14: 0.603\n",
      "15: 0.483\n",
      "16: 0.548\n",
      "17: 0.631\n",
      "18: 0.480\n",
      "19: 0.455\n",
      "20: 0.517\n",
      "21: 0.537\n",
      "22: 0.585\n",
      "23: 0.519\n",
      "24: 0.545\n",
      "25: 0.610\n",
      "26: 0.526\n",
      "27: 0.550\n",
      "28: 0.475\n",
      "29: 0.582\n",
      "30: 0.532\n",
      "Avg. hamming loss: 0.262 (std.dev: 0.029)\n",
      "Avg. f1-score: 0.546 (std.dev: 0.048\n"
     ]
    }
   ],
   "source": [
    "hamming_losses, f1_scores = evaluate(x, y)\n",
    "\n",
    "print(\"Avg. hamming loss: %.3f (std.dev: %.3f)\" % (np.mean(hamming_losses), np.std(hamming_losses)))\n",
    "print(\"Avg. f1-score: %.3f (std.dev: %.3f\" % (np.mean(f1_scores), np.std(f1_scores)))"
   ]
  },
  {
   "cell_type": "code",
   "execution_count": 6,
   "metadata": {},
   "outputs": [],
   "source": [
    "input_dim, output_dim = x.shape[1], y.shape[1]\n",
    "\n",
    "(x_train, y_train), (x_test, y_test) = split_test_train(data[\"movies\"], .9)\n",
    "\n",
    "model = get_model(input_dim=input_dim, hidden_dim=[40], output_dim=output_dim, lr=0.01)\n",
    "history = model.fit(x_train, y_train, verbose=0, epochs=200)"
   ]
  },
  {
   "cell_type": "code",
   "execution_count": 9,
   "metadata": {},
   "outputs": [
    {
     "output_type": "execute_result",
     "data": {
      "text/plain": [
       "[<matplotlib.lines.Line2D at 0x146188ad388>]"
      ]
     },
     "metadata": {},
     "execution_count": 9
    },
    {
     "output_type": "display_data",
     "data": {
      "text/plain": "<Figure size 432x288 with 1 Axes>",
      "image/svg+xml": "<?xml version=\"1.0\" encoding=\"utf-8\" standalone=\"no\"?>\r\n<!DOCTYPE svg PUBLIC \"-//W3C//DTD SVG 1.1//EN\"\r\n  \"http://www.w3.org/Graphics/SVG/1.1/DTD/svg11.dtd\">\r\n<!-- Created with matplotlib (https://matplotlib.org/) -->\r\n<svg height=\"248.518125pt\" version=\"1.1\" viewBox=\"0 0 378.465625 248.518125\" width=\"378.465625pt\" xmlns=\"http://www.w3.org/2000/svg\" xmlns:xlink=\"http://www.w3.org/1999/xlink\">\r\n <metadata>\r\n  <rdf:RDF xmlns:cc=\"http://creativecommons.org/ns#\" xmlns:dc=\"http://purl.org/dc/elements/1.1/\" xmlns:rdf=\"http://www.w3.org/1999/02/22-rdf-syntax-ns#\">\r\n   <cc:Work>\r\n    <dc:type rdf:resource=\"http://purl.org/dc/dcmitype/StillImage\"/>\r\n    <dc:date>2021-03-03T17:01:48.498488</dc:date>\r\n    <dc:format>image/svg+xml</dc:format>\r\n    <dc:creator>\r\n     <cc:Agent>\r\n      <dc:title>Matplotlib v3.3.4, https://matplotlib.org/</dc:title>\r\n     </cc:Agent>\r\n    </dc:creator>\r\n   </cc:Work>\r\n  </rdf:RDF>\r\n </metadata>\r\n <defs>\r\n  <style type=\"text/css\">*{stroke-linecap:butt;stroke-linejoin:round;}</style>\r\n </defs>\r\n <g id=\"figure_1\">\r\n  <g id=\"patch_1\">\r\n   <path d=\"M 0 248.518125 \r\nL 378.465625 248.518125 \r\nL 378.465625 0 \r\nL 0 0 \r\nz\r\n\" style=\"fill:none;\"/>\r\n  </g>\r\n  <g id=\"axes_1\">\r\n   <g id=\"patch_2\">\r\n    <path d=\"M 36.465625 224.64 \r\nL 371.265625 224.64 \r\nL 371.265625 7.2 \r\nL 36.465625 7.2 \r\nz\r\n\" style=\"fill:#ffffff;\"/>\r\n   </g>\r\n   <g id=\"matplotlib.axis_1\">\r\n    <g id=\"xtick_1\">\r\n     <g id=\"line2d_1\">\r\n      <defs>\r\n       <path d=\"M 0 0 \r\nL 0 3.5 \r\n\" id=\"m5544899352\" style=\"stroke:#000000;stroke-width:0.8;\"/>\r\n      </defs>\r\n      <g>\r\n       <use style=\"stroke:#000000;stroke-width:0.8;\" x=\"51.683807\" xlink:href=\"#m5544899352\" y=\"224.64\"/>\r\n      </g>\r\n     </g>\r\n     <g id=\"text_1\">\r\n      <!-- 0 -->\r\n      <g transform=\"translate(48.502557 239.238437)scale(0.1 -0.1)\">\r\n       <defs>\r\n        <path d=\"M 31.78125 66.40625 \r\nQ 24.171875 66.40625 20.328125 58.90625 \r\nQ 16.5 51.421875 16.5 36.375 \r\nQ 16.5 21.390625 20.328125 13.890625 \r\nQ 24.171875 6.390625 31.78125 6.390625 \r\nQ 39.453125 6.390625 43.28125 13.890625 \r\nQ 47.125 21.390625 47.125 36.375 \r\nQ 47.125 51.421875 43.28125 58.90625 \r\nQ 39.453125 66.40625 31.78125 66.40625 \r\nz\r\nM 31.78125 74.21875 \r\nQ 44.046875 74.21875 50.515625 64.515625 \r\nQ 56.984375 54.828125 56.984375 36.375 \r\nQ 56.984375 17.96875 50.515625 8.265625 \r\nQ 44.046875 -1.421875 31.78125 -1.421875 \r\nQ 19.53125 -1.421875 13.0625 8.265625 \r\nQ 6.59375 17.96875 6.59375 36.375 \r\nQ 6.59375 54.828125 13.0625 64.515625 \r\nQ 19.53125 74.21875 31.78125 74.21875 \r\nz\r\n\" id=\"DejaVuSans-48\"/>\r\n       </defs>\r\n       <use xlink:href=\"#DejaVuSans-48\"/>\r\n      </g>\r\n     </g>\r\n    </g>\r\n    <g id=\"xtick_2\">\r\n     <g id=\"line2d_2\">\r\n      <g>\r\n       <use style=\"stroke:#000000;stroke-width:0.8;\" x=\"89.920445\" xlink:href=\"#m5544899352\" y=\"224.64\"/>\r\n      </g>\r\n     </g>\r\n     <g id=\"text_2\">\r\n      <!-- 25 -->\r\n      <g transform=\"translate(83.557945 239.238437)scale(0.1 -0.1)\">\r\n       <defs>\r\n        <path d=\"M 19.1875 8.296875 \r\nL 53.609375 8.296875 \r\nL 53.609375 0 \r\nL 7.328125 0 \r\nL 7.328125 8.296875 \r\nQ 12.9375 14.109375 22.625 23.890625 \r\nQ 32.328125 33.6875 34.8125 36.53125 \r\nQ 39.546875 41.84375 41.421875 45.53125 \r\nQ 43.3125 49.21875 43.3125 52.78125 \r\nQ 43.3125 58.59375 39.234375 62.25 \r\nQ 35.15625 65.921875 28.609375 65.921875 \r\nQ 23.96875 65.921875 18.8125 64.3125 \r\nQ 13.671875 62.703125 7.8125 59.421875 \r\nL 7.8125 69.390625 \r\nQ 13.765625 71.78125 18.9375 73 \r\nQ 24.125 74.21875 28.421875 74.21875 \r\nQ 39.75 74.21875 46.484375 68.546875 \r\nQ 53.21875 62.890625 53.21875 53.421875 \r\nQ 53.21875 48.921875 51.53125 44.890625 \r\nQ 49.859375 40.875 45.40625 35.40625 \r\nQ 44.1875 33.984375 37.640625 27.21875 \r\nQ 31.109375 20.453125 19.1875 8.296875 \r\nz\r\n\" id=\"DejaVuSans-50\"/>\r\n        <path d=\"M 10.796875 72.90625 \r\nL 49.515625 72.90625 \r\nL 49.515625 64.59375 \r\nL 19.828125 64.59375 \r\nL 19.828125 46.734375 \r\nQ 21.96875 47.46875 24.109375 47.828125 \r\nQ 26.265625 48.1875 28.421875 48.1875 \r\nQ 40.625 48.1875 47.75 41.5 \r\nQ 54.890625 34.8125 54.890625 23.390625 \r\nQ 54.890625 11.625 47.5625 5.09375 \r\nQ 40.234375 -1.421875 26.90625 -1.421875 \r\nQ 22.3125 -1.421875 17.546875 -0.640625 \r\nQ 12.796875 0.140625 7.71875 1.703125 \r\nL 7.71875 11.625 \r\nQ 12.109375 9.234375 16.796875 8.0625 \r\nQ 21.484375 6.890625 26.703125 6.890625 \r\nQ 35.15625 6.890625 40.078125 11.328125 \r\nQ 45.015625 15.765625 45.015625 23.390625 \r\nQ 45.015625 31 40.078125 35.4375 \r\nQ 35.15625 39.890625 26.703125 39.890625 \r\nQ 22.75 39.890625 18.8125 39.015625 \r\nQ 14.890625 38.140625 10.796875 36.28125 \r\nz\r\n\" id=\"DejaVuSans-53\"/>\r\n       </defs>\r\n       <use xlink:href=\"#DejaVuSans-50\"/>\r\n       <use x=\"63.623047\" xlink:href=\"#DejaVuSans-53\"/>\r\n      </g>\r\n     </g>\r\n    </g>\r\n    <g id=\"xtick_3\">\r\n     <g id=\"line2d_3\">\r\n      <g>\r\n       <use style=\"stroke:#000000;stroke-width:0.8;\" x=\"128.157082\" xlink:href=\"#m5544899352\" y=\"224.64\"/>\r\n      </g>\r\n     </g>\r\n     <g id=\"text_3\">\r\n      <!-- 50 -->\r\n      <g transform=\"translate(121.794582 239.238437)scale(0.1 -0.1)\">\r\n       <use xlink:href=\"#DejaVuSans-53\"/>\r\n       <use x=\"63.623047\" xlink:href=\"#DejaVuSans-48\"/>\r\n      </g>\r\n     </g>\r\n    </g>\r\n    <g id=\"xtick_4\">\r\n     <g id=\"line2d_4\">\r\n      <g>\r\n       <use style=\"stroke:#000000;stroke-width:0.8;\" x=\"166.39372\" xlink:href=\"#m5544899352\" y=\"224.64\"/>\r\n      </g>\r\n     </g>\r\n     <g id=\"text_4\">\r\n      <!-- 75 -->\r\n      <g transform=\"translate(160.03122 239.238437)scale(0.1 -0.1)\">\r\n       <defs>\r\n        <path d=\"M 8.203125 72.90625 \r\nL 55.078125 72.90625 \r\nL 55.078125 68.703125 \r\nL 28.609375 0 \r\nL 18.3125 0 \r\nL 43.21875 64.59375 \r\nL 8.203125 64.59375 \r\nz\r\n\" id=\"DejaVuSans-55\"/>\r\n       </defs>\r\n       <use xlink:href=\"#DejaVuSans-55\"/>\r\n       <use x=\"63.623047\" xlink:href=\"#DejaVuSans-53\"/>\r\n      </g>\r\n     </g>\r\n    </g>\r\n    <g id=\"xtick_5\">\r\n     <g id=\"line2d_5\">\r\n      <g>\r\n       <use style=\"stroke:#000000;stroke-width:0.8;\" x=\"204.630358\" xlink:href=\"#m5544899352\" y=\"224.64\"/>\r\n      </g>\r\n     </g>\r\n     <g id=\"text_5\">\r\n      <!-- 100 -->\r\n      <g transform=\"translate(195.086608 239.238437)scale(0.1 -0.1)\">\r\n       <defs>\r\n        <path d=\"M 12.40625 8.296875 \r\nL 28.515625 8.296875 \r\nL 28.515625 63.921875 \r\nL 10.984375 60.40625 \r\nL 10.984375 69.390625 \r\nL 28.421875 72.90625 \r\nL 38.28125 72.90625 \r\nL 38.28125 8.296875 \r\nL 54.390625 8.296875 \r\nL 54.390625 0 \r\nL 12.40625 0 \r\nz\r\n\" id=\"DejaVuSans-49\"/>\r\n       </defs>\r\n       <use xlink:href=\"#DejaVuSans-49\"/>\r\n       <use x=\"63.623047\" xlink:href=\"#DejaVuSans-48\"/>\r\n       <use x=\"127.246094\" xlink:href=\"#DejaVuSans-48\"/>\r\n      </g>\r\n     </g>\r\n    </g>\r\n    <g id=\"xtick_6\">\r\n     <g id=\"line2d_6\">\r\n      <g>\r\n       <use style=\"stroke:#000000;stroke-width:0.8;\" x=\"242.866995\" xlink:href=\"#m5544899352\" y=\"224.64\"/>\r\n      </g>\r\n     </g>\r\n     <g id=\"text_6\">\r\n      <!-- 125 -->\r\n      <g transform=\"translate(233.323245 239.238437)scale(0.1 -0.1)\">\r\n       <use xlink:href=\"#DejaVuSans-49\"/>\r\n       <use x=\"63.623047\" xlink:href=\"#DejaVuSans-50\"/>\r\n       <use x=\"127.246094\" xlink:href=\"#DejaVuSans-53\"/>\r\n      </g>\r\n     </g>\r\n    </g>\r\n    <g id=\"xtick_7\">\r\n     <g id=\"line2d_7\">\r\n      <g>\r\n       <use style=\"stroke:#000000;stroke-width:0.8;\" x=\"281.103633\" xlink:href=\"#m5544899352\" y=\"224.64\"/>\r\n      </g>\r\n     </g>\r\n     <g id=\"text_7\">\r\n      <!-- 150 -->\r\n      <g transform=\"translate(271.559883 239.238437)scale(0.1 -0.1)\">\r\n       <use xlink:href=\"#DejaVuSans-49\"/>\r\n       <use x=\"63.623047\" xlink:href=\"#DejaVuSans-53\"/>\r\n       <use x=\"127.246094\" xlink:href=\"#DejaVuSans-48\"/>\r\n      </g>\r\n     </g>\r\n    </g>\r\n    <g id=\"xtick_8\">\r\n     <g id=\"line2d_8\">\r\n      <g>\r\n       <use style=\"stroke:#000000;stroke-width:0.8;\" x=\"319.340271\" xlink:href=\"#m5544899352\" y=\"224.64\"/>\r\n      </g>\r\n     </g>\r\n     <g id=\"text_8\">\r\n      <!-- 175 -->\r\n      <g transform=\"translate(309.796521 239.238437)scale(0.1 -0.1)\">\r\n       <use xlink:href=\"#DejaVuSans-49\"/>\r\n       <use x=\"63.623047\" xlink:href=\"#DejaVuSans-55\"/>\r\n       <use x=\"127.246094\" xlink:href=\"#DejaVuSans-53\"/>\r\n      </g>\r\n     </g>\r\n    </g>\r\n    <g id=\"xtick_9\">\r\n     <g id=\"line2d_9\">\r\n      <g>\r\n       <use style=\"stroke:#000000;stroke-width:0.8;\" x=\"357.576909\" xlink:href=\"#m5544899352\" y=\"224.64\"/>\r\n      </g>\r\n     </g>\r\n     <g id=\"text_9\">\r\n      <!-- 200 -->\r\n      <g transform=\"translate(348.033159 239.238437)scale(0.1 -0.1)\">\r\n       <use xlink:href=\"#DejaVuSans-50\"/>\r\n       <use x=\"63.623047\" xlink:href=\"#DejaVuSans-48\"/>\r\n       <use x=\"127.246094\" xlink:href=\"#DejaVuSans-48\"/>\r\n      </g>\r\n     </g>\r\n    </g>\r\n   </g>\r\n   <g id=\"matplotlib.axis_2\">\r\n    <g id=\"ytick_1\">\r\n     <g id=\"line2d_10\">\r\n      <defs>\r\n       <path d=\"M 0 0 \r\nL -3.5 0 \r\n\" id=\"m690a7b0cff\" style=\"stroke:#000000;stroke-width:0.8;\"/>\r\n      </defs>\r\n      <g>\r\n       <use style=\"stroke:#000000;stroke-width:0.8;\" x=\"36.465625\" xlink:href=\"#m690a7b0cff\" y=\"223.936103\"/>\r\n      </g>\r\n     </g>\r\n     <g id=\"text_10\">\r\n      <!-- 0.24 -->\r\n      <g transform=\"translate(7.2 227.735322)scale(0.1 -0.1)\">\r\n       <defs>\r\n        <path d=\"M 10.6875 12.40625 \r\nL 21 12.40625 \r\nL 21 0 \r\nL 10.6875 0 \r\nz\r\n\" id=\"DejaVuSans-46\"/>\r\n        <path d=\"M 37.796875 64.3125 \r\nL 12.890625 25.390625 \r\nL 37.796875 25.390625 \r\nz\r\nM 35.203125 72.90625 \r\nL 47.609375 72.90625 \r\nL 47.609375 25.390625 \r\nL 58.015625 25.390625 \r\nL 58.015625 17.1875 \r\nL 47.609375 17.1875 \r\nL 47.609375 0 \r\nL 37.796875 0 \r\nL 37.796875 17.1875 \r\nL 4.890625 17.1875 \r\nL 4.890625 26.703125 \r\nz\r\n\" id=\"DejaVuSans-52\"/>\r\n       </defs>\r\n       <use xlink:href=\"#DejaVuSans-48\"/>\r\n       <use x=\"63.623047\" xlink:href=\"#DejaVuSans-46\"/>\r\n       <use x=\"95.410156\" xlink:href=\"#DejaVuSans-50\"/>\r\n       <use x=\"159.033203\" xlink:href=\"#DejaVuSans-52\"/>\r\n      </g>\r\n     </g>\r\n    </g>\r\n    <g id=\"ytick_2\">\r\n     <g id=\"line2d_11\">\r\n      <g>\r\n       <use style=\"stroke:#000000;stroke-width:0.8;\" x=\"36.465625\" xlink:href=\"#m690a7b0cff\" y=\"194.00556\"/>\r\n      </g>\r\n     </g>\r\n     <g id=\"text_11\">\r\n      <!-- 0.26 -->\r\n      <g transform=\"translate(7.2 197.804779)scale(0.1 -0.1)\">\r\n       <defs>\r\n        <path d=\"M 33.015625 40.375 \r\nQ 26.375 40.375 22.484375 35.828125 \r\nQ 18.609375 31.296875 18.609375 23.390625 \r\nQ 18.609375 15.53125 22.484375 10.953125 \r\nQ 26.375 6.390625 33.015625 6.390625 \r\nQ 39.65625 6.390625 43.53125 10.953125 \r\nQ 47.40625 15.53125 47.40625 23.390625 \r\nQ 47.40625 31.296875 43.53125 35.828125 \r\nQ 39.65625 40.375 33.015625 40.375 \r\nz\r\nM 52.59375 71.296875 \r\nL 52.59375 62.3125 \r\nQ 48.875 64.0625 45.09375 64.984375 \r\nQ 41.3125 65.921875 37.59375 65.921875 \r\nQ 27.828125 65.921875 22.671875 59.328125 \r\nQ 17.53125 52.734375 16.796875 39.40625 \r\nQ 19.671875 43.65625 24.015625 45.921875 \r\nQ 28.375 48.1875 33.59375 48.1875 \r\nQ 44.578125 48.1875 50.953125 41.515625 \r\nQ 57.328125 34.859375 57.328125 23.390625 \r\nQ 57.328125 12.15625 50.6875 5.359375 \r\nQ 44.046875 -1.421875 33.015625 -1.421875 \r\nQ 20.359375 -1.421875 13.671875 8.265625 \r\nQ 6.984375 17.96875 6.984375 36.375 \r\nQ 6.984375 53.65625 15.1875 63.9375 \r\nQ 23.390625 74.21875 37.203125 74.21875 \r\nQ 40.921875 74.21875 44.703125 73.484375 \r\nQ 48.484375 72.75 52.59375 71.296875 \r\nz\r\n\" id=\"DejaVuSans-54\"/>\r\n       </defs>\r\n       <use xlink:href=\"#DejaVuSans-48\"/>\r\n       <use x=\"63.623047\" xlink:href=\"#DejaVuSans-46\"/>\r\n       <use x=\"95.410156\" xlink:href=\"#DejaVuSans-50\"/>\r\n       <use x=\"159.033203\" xlink:href=\"#DejaVuSans-54\"/>\r\n      </g>\r\n     </g>\r\n    </g>\r\n    <g id=\"ytick_3\">\r\n     <g id=\"line2d_12\">\r\n      <g>\r\n       <use style=\"stroke:#000000;stroke-width:0.8;\" x=\"36.465625\" xlink:href=\"#m690a7b0cff\" y=\"164.075017\"/>\r\n      </g>\r\n     </g>\r\n     <g id=\"text_12\">\r\n      <!-- 0.28 -->\r\n      <g transform=\"translate(7.2 167.874236)scale(0.1 -0.1)\">\r\n       <defs>\r\n        <path d=\"M 31.78125 34.625 \r\nQ 24.75 34.625 20.71875 30.859375 \r\nQ 16.703125 27.09375 16.703125 20.515625 \r\nQ 16.703125 13.921875 20.71875 10.15625 \r\nQ 24.75 6.390625 31.78125 6.390625 \r\nQ 38.8125 6.390625 42.859375 10.171875 \r\nQ 46.921875 13.96875 46.921875 20.515625 \r\nQ 46.921875 27.09375 42.890625 30.859375 \r\nQ 38.875 34.625 31.78125 34.625 \r\nz\r\nM 21.921875 38.8125 \r\nQ 15.578125 40.375 12.03125 44.71875 \r\nQ 8.5 49.078125 8.5 55.328125 \r\nQ 8.5 64.0625 14.71875 69.140625 \r\nQ 20.953125 74.21875 31.78125 74.21875 \r\nQ 42.671875 74.21875 48.875 69.140625 \r\nQ 55.078125 64.0625 55.078125 55.328125 \r\nQ 55.078125 49.078125 51.53125 44.71875 \r\nQ 48 40.375 41.703125 38.8125 \r\nQ 48.828125 37.15625 52.796875 32.3125 \r\nQ 56.78125 27.484375 56.78125 20.515625 \r\nQ 56.78125 9.90625 50.3125 4.234375 \r\nQ 43.84375 -1.421875 31.78125 -1.421875 \r\nQ 19.734375 -1.421875 13.25 4.234375 \r\nQ 6.78125 9.90625 6.78125 20.515625 \r\nQ 6.78125 27.484375 10.78125 32.3125 \r\nQ 14.796875 37.15625 21.921875 38.8125 \r\nz\r\nM 18.3125 54.390625 \r\nQ 18.3125 48.734375 21.84375 45.5625 \r\nQ 25.390625 42.390625 31.78125 42.390625 \r\nQ 38.140625 42.390625 41.71875 45.5625 \r\nQ 45.3125 48.734375 45.3125 54.390625 \r\nQ 45.3125 60.0625 41.71875 63.234375 \r\nQ 38.140625 66.40625 31.78125 66.40625 \r\nQ 25.390625 66.40625 21.84375 63.234375 \r\nQ 18.3125 60.0625 18.3125 54.390625 \r\nz\r\n\" id=\"DejaVuSans-56\"/>\r\n       </defs>\r\n       <use xlink:href=\"#DejaVuSans-48\"/>\r\n       <use x=\"63.623047\" xlink:href=\"#DejaVuSans-46\"/>\r\n       <use x=\"95.410156\" xlink:href=\"#DejaVuSans-50\"/>\r\n       <use x=\"159.033203\" xlink:href=\"#DejaVuSans-56\"/>\r\n      </g>\r\n     </g>\r\n    </g>\r\n    <g id=\"ytick_4\">\r\n     <g id=\"line2d_13\">\r\n      <g>\r\n       <use style=\"stroke:#000000;stroke-width:0.8;\" x=\"36.465625\" xlink:href=\"#m690a7b0cff\" y=\"134.144475\"/>\r\n      </g>\r\n     </g>\r\n     <g id=\"text_13\">\r\n      <!-- 0.30 -->\r\n      <g transform=\"translate(7.2 137.943693)scale(0.1 -0.1)\">\r\n       <defs>\r\n        <path d=\"M 40.578125 39.3125 \r\nQ 47.65625 37.796875 51.625 33 \r\nQ 55.609375 28.21875 55.609375 21.1875 \r\nQ 55.609375 10.40625 48.1875 4.484375 \r\nQ 40.765625 -1.421875 27.09375 -1.421875 \r\nQ 22.515625 -1.421875 17.65625 -0.515625 \r\nQ 12.796875 0.390625 7.625 2.203125 \r\nL 7.625 11.71875 \r\nQ 11.71875 9.328125 16.59375 8.109375 \r\nQ 21.484375 6.890625 26.8125 6.890625 \r\nQ 36.078125 6.890625 40.9375 10.546875 \r\nQ 45.796875 14.203125 45.796875 21.1875 \r\nQ 45.796875 27.640625 41.28125 31.265625 \r\nQ 36.765625 34.90625 28.71875 34.90625 \r\nL 20.21875 34.90625 \r\nL 20.21875 43.015625 \r\nL 29.109375 43.015625 \r\nQ 36.375 43.015625 40.234375 45.921875 \r\nQ 44.09375 48.828125 44.09375 54.296875 \r\nQ 44.09375 59.90625 40.109375 62.90625 \r\nQ 36.140625 65.921875 28.71875 65.921875 \r\nQ 24.65625 65.921875 20.015625 65.03125 \r\nQ 15.375 64.15625 9.8125 62.3125 \r\nL 9.8125 71.09375 \r\nQ 15.4375 72.65625 20.34375 73.4375 \r\nQ 25.25 74.21875 29.59375 74.21875 \r\nQ 40.828125 74.21875 47.359375 69.109375 \r\nQ 53.90625 64.015625 53.90625 55.328125 \r\nQ 53.90625 49.265625 50.4375 45.09375 \r\nQ 46.96875 40.921875 40.578125 39.3125 \r\nz\r\n\" id=\"DejaVuSans-51\"/>\r\n       </defs>\r\n       <use xlink:href=\"#DejaVuSans-48\"/>\r\n       <use x=\"63.623047\" xlink:href=\"#DejaVuSans-46\"/>\r\n       <use x=\"95.410156\" xlink:href=\"#DejaVuSans-51\"/>\r\n       <use x=\"159.033203\" xlink:href=\"#DejaVuSans-48\"/>\r\n      </g>\r\n     </g>\r\n    </g>\r\n    <g id=\"ytick_5\">\r\n     <g id=\"line2d_14\">\r\n      <g>\r\n       <use style=\"stroke:#000000;stroke-width:0.8;\" x=\"36.465625\" xlink:href=\"#m690a7b0cff\" y=\"104.213932\"/>\r\n      </g>\r\n     </g>\r\n     <g id=\"text_14\">\r\n      <!-- 0.32 -->\r\n      <g transform=\"translate(7.2 108.013151)scale(0.1 -0.1)\">\r\n       <use xlink:href=\"#DejaVuSans-48\"/>\r\n       <use x=\"63.623047\" xlink:href=\"#DejaVuSans-46\"/>\r\n       <use x=\"95.410156\" xlink:href=\"#DejaVuSans-51\"/>\r\n       <use x=\"159.033203\" xlink:href=\"#DejaVuSans-50\"/>\r\n      </g>\r\n     </g>\r\n    </g>\r\n    <g id=\"ytick_6\">\r\n     <g id=\"line2d_15\">\r\n      <g>\r\n       <use style=\"stroke:#000000;stroke-width:0.8;\" x=\"36.465625\" xlink:href=\"#m690a7b0cff\" y=\"74.283389\"/>\r\n      </g>\r\n     </g>\r\n     <g id=\"text_15\">\r\n      <!-- 0.34 -->\r\n      <g transform=\"translate(7.2 78.082608)scale(0.1 -0.1)\">\r\n       <use xlink:href=\"#DejaVuSans-48\"/>\r\n       <use x=\"63.623047\" xlink:href=\"#DejaVuSans-46\"/>\r\n       <use x=\"95.410156\" xlink:href=\"#DejaVuSans-51\"/>\r\n       <use x=\"159.033203\" xlink:href=\"#DejaVuSans-52\"/>\r\n      </g>\r\n     </g>\r\n    </g>\r\n    <g id=\"ytick_7\">\r\n     <g id=\"line2d_16\">\r\n      <g>\r\n       <use style=\"stroke:#000000;stroke-width:0.8;\" x=\"36.465625\" xlink:href=\"#m690a7b0cff\" y=\"44.352846\"/>\r\n      </g>\r\n     </g>\r\n     <g id=\"text_16\">\r\n      <!-- 0.36 -->\r\n      <g transform=\"translate(7.2 48.152065)scale(0.1 -0.1)\">\r\n       <use xlink:href=\"#DejaVuSans-48\"/>\r\n       <use x=\"63.623047\" xlink:href=\"#DejaVuSans-46\"/>\r\n       <use x=\"95.410156\" xlink:href=\"#DejaVuSans-51\"/>\r\n       <use x=\"159.033203\" xlink:href=\"#DejaVuSans-54\"/>\r\n      </g>\r\n     </g>\r\n    </g>\r\n    <g id=\"ytick_8\">\r\n     <g id=\"line2d_17\">\r\n      <g>\r\n       <use style=\"stroke:#000000;stroke-width:0.8;\" x=\"36.465625\" xlink:href=\"#m690a7b0cff\" y=\"14.422304\"/>\r\n      </g>\r\n     </g>\r\n     <g id=\"text_17\">\r\n      <!-- 0.38 -->\r\n      <g transform=\"translate(7.2 18.221522)scale(0.1 -0.1)\">\r\n       <use xlink:href=\"#DejaVuSans-48\"/>\r\n       <use x=\"63.623047\" xlink:href=\"#DejaVuSans-46\"/>\r\n       <use x=\"95.410156\" xlink:href=\"#DejaVuSans-51\"/>\r\n       <use x=\"159.033203\" xlink:href=\"#DejaVuSans-56\"/>\r\n      </g>\r\n     </g>\r\n    </g>\r\n   </g>\r\n   <g id=\"line2d_18\">\r\n    <path clip-path=\"url(#pd50de79d7e)\" d=\"M 51.683807 17.083636 \r\nL 53.213272 41.190062 \r\nL 56.272203 99.527644 \r\nL 57.801669 132.312379 \r\nL 59.331134 140.990688 \r\nL 60.8606 152.079671 \r\nL 62.390065 157.865181 \r\nL 63.919531 162.686484 \r\nL 65.448996 150.633294 \r\nL 66.978462 152.079671 \r\nL 68.507927 154.972426 \r\nL 70.037393 163.650736 \r\nL 71.566858 155.936678 \r\nL 73.096324 168.472039 \r\nL 74.625789 166.061365 \r\nL 76.155255 164.132862 \r\nL 77.68472 168.472039 \r\nL 79.214186 171.84692 \r\nL 80.743651 178.1146 \r\nL 82.273117 170.400542 \r\nL 83.802583 166.061365 \r\nL 85.332048 174.739719 \r\nL 86.861514 170.882668 \r\nL 88.390979 170.400542 \r\nL 89.920445 167.989913 \r\nL 91.44991 177.632474 \r\nL 92.979376 175.221845 \r\nL 94.508841 175.221845 \r\nL 96.038307 173.775423 \r\nL 97.567772 176.668222 \r\nL 99.097238 175.703971 \r\nL 100.626703 180.043103 \r\nL 102.156169 175.221845 \r\nL 103.685634 180.043103 \r\nL 105.2151 180.525229 \r\nL 106.744565 182.935903 \r\nL 108.274031 186.792909 \r\nL 109.803496 175.221845 \r\nL 111.332962 171.84692 \r\nL 112.862427 189.203539 \r\nL 114.391893 181.971651 \r\nL 115.921358 182.935903 \r\nL 117.450824 184.38228 \r\nL 118.980289 186.310784 \r\nL 120.509755 186.792909 \r\nL 122.03922 182.453777 \r\nL 123.568686 185.828658 \r\nL 125.098151 195.953345 \r\nL 126.627617 186.310784 \r\nL 128.157082 196.917596 \r\nL 129.686548 188.239287 \r\nL 131.216013 196.917596 \r\nL 132.745479 199.810396 \r\nL 134.274944 201.256774 \r\nL 135.80441 199.32827 \r\nL 137.333875 190.649961 \r\nL 138.863341 194.989093 \r\nL 140.392806 195.953345 \r\nL 141.922272 194.506967 \r\nL 143.451737 187.275035 \r\nL 144.981203 197.881893 \r\nL 146.510668 203.185277 \r\nL 148.040134 201.256774 \r\nL 149.569599 195.953345 \r\nL 151.099065 195.953345 \r\nL 152.62853 198.846144 \r\nL 154.157996 201.256774 \r\nL 155.687461 189.685709 \r\nL 157.216927 199.32827 \r\nL 158.746392 200.774648 \r\nL 160.275858 194.024841 \r\nL 161.805323 195.953345 \r\nL 163.334789 203.185277 \r\nL 164.864255 203.667403 \r\nL 166.39372 193.542716 \r\nL 167.923186 201.738899 \r\nL 169.452651 206.560202 \r\nL 170.982117 206.560202 \r\nL 172.511582 202.221025 \r\nL 174.041048 206.078076 \r\nL 175.570513 200.774648 \r\nL 177.099979 201.738899 \r\nL 178.629444 206.560202 \r\nL 180.15891 204.149528 \r\nL 181.688375 208.970831 \r\nL 183.217841 203.667403 \r\nL 184.747306 190.167835 \r\nL 186.276772 206.560202 \r\nL 187.806237 204.149528 \r\nL 189.335703 198.364019 \r\nL 190.865168 208.00658 \r\nL 192.394634 206.078076 \r\nL 193.924099 206.560202 \r\nL 195.453565 196.435471 \r\nL 196.98303 200.774648 \r\nL 198.512496 199.810396 \r\nL 200.041961 207.524454 \r\nL 201.571427 189.203539 \r\nL 203.100892 200.292522 \r\nL 204.630358 194.506967 \r\nL 206.159823 203.185277 \r\nL 207.689289 196.917596 \r\nL 209.218754 198.846144 \r\nL 210.74822 208.488706 \r\nL 212.277685 203.185277 \r\nL 213.807151 200.292522 \r\nL 215.336616 201.738899 \r\nL 216.866082 198.846144 \r\nL 218.395547 200.292522 \r\nL 219.925013 205.595951 \r\nL 221.454478 203.667403 \r\nL 222.983944 200.292522 \r\nL 224.513409 202.703151 \r\nL 226.042875 194.506967 \r\nL 227.57234 198.846144 \r\nL 229.101806 193.542716 \r\nL 230.631271 198.846144 \r\nL 232.160737 189.203539 \r\nL 233.690202 206.560202 \r\nL 235.219668 203.185277 \r\nL 236.749133 204.149528 \r\nL 238.278599 206.560202 \r\nL 239.808064 205.595951 \r\nL 241.33753 207.042328 \r\nL 242.866995 202.221025 \r\nL 244.396461 204.631654 \r\nL 245.925927 208.00658 \r\nL 247.455392 206.560202 \r\nL 248.984858 205.595951 \r\nL 250.514323 208.488706 \r\nL 252.043789 204.631654 \r\nL 253.573254 210.899335 \r\nL 255.10272 198.846144 \r\nL 256.632185 203.185277 \r\nL 258.161651 190.649961 \r\nL 259.691116 205.113825 \r\nL 261.220582 198.846144 \r\nL 262.750047 202.221025 \r\nL 264.279513 209.935083 \r\nL 267.338444 200.292522 \r\nL 268.867909 206.078076 \r\nL 270.397375 201.738899 \r\nL 271.92684 198.846144 \r\nL 273.456306 207.524454 \r\nL 274.985771 205.113825 \r\nL 276.515237 204.149528 \r\nL 278.044702 208.00658 \r\nL 279.574168 197.881893 \r\nL 281.103633 212.82786 \r\nL 282.633099 200.774648 \r\nL 284.162564 191.614212 \r\nL 285.69203 208.488706 \r\nL 287.221495 204.149528 \r\nL 288.750961 189.203539 \r\nL 290.280426 202.221025 \r\nL 291.809892 212.345734 \r\nL 293.339357 206.560202 \r\nL 294.868823 202.221025 \r\nL 296.398288 202.703151 \r\nL 297.927754 208.488706 \r\nL 299.457219 208.488706 \r\nL 300.986685 203.667403 \r\nL 302.51615 202.703151 \r\nL 304.045616 200.774648 \r\nL 305.575081 206.560202 \r\nL 307.104547 209.935083 \r\nL 308.634012 208.00658 \r\nL 310.163478 205.113825 \r\nL 311.692943 200.774648 \r\nL 313.222409 202.221025 \r\nL 314.751874 201.256774 \r\nL 316.28134 208.970831 \r\nL 319.340271 210.899335 \r\nL 320.869736 199.810396 \r\nL 322.399202 208.970831 \r\nL 323.928667 205.113825 \r\nL 325.458133 207.524454 \r\nL 326.987599 211.863609 \r\nL 328.517064 208.00658 \r\nL 330.04653 212.345734 \r\nL 331.575995 207.524454 \r\nL 333.105461 210.899335 \r\nL 334.634926 210.417209 \r\nL 336.164392 202.221025 \r\nL 337.693857 210.417209 \r\nL 339.223323 214.756364 \r\nL 340.752788 195.471219 \r\nL 342.282254 199.810396 \r\nL 343.811719 202.221025 \r\nL 345.341185 209.935083 \r\nL 346.87065 209.452957 \r\nL 348.400116 202.221025 \r\nL 349.929581 208.488706 \r\nL 351.459047 201.738899 \r\nL 352.988512 206.078076 \r\nL 354.517978 204.149528 \r\nL 356.047443 205.595951 \r\nL 356.047443 205.595951 \r\n\" style=\"fill:none;stroke:#1f77b4;stroke-linecap:square;stroke-width:1.5;\"/>\r\n   </g>\r\n   <g id=\"patch_3\">\r\n    <path d=\"M 36.465625 224.64 \r\nL 36.465625 7.2 \r\n\" style=\"fill:none;stroke:#000000;stroke-linecap:square;stroke-linejoin:miter;stroke-width:0.8;\"/>\r\n   </g>\r\n   <g id=\"patch_4\">\r\n    <path d=\"M 371.265625 224.64 \r\nL 371.265625 7.2 \r\n\" style=\"fill:none;stroke:#000000;stroke-linecap:square;stroke-linejoin:miter;stroke-width:0.8;\"/>\r\n   </g>\r\n   <g id=\"patch_5\">\r\n    <path d=\"M 36.465625 224.64 \r\nL 371.265625 224.64 \r\n\" style=\"fill:none;stroke:#000000;stroke-linecap:square;stroke-linejoin:miter;stroke-width:0.8;\"/>\r\n   </g>\r\n   <g id=\"patch_6\">\r\n    <path d=\"M 36.465625 7.2 \r\nL 371.265625 7.2 \r\n\" style=\"fill:none;stroke:#000000;stroke-linecap:square;stroke-linejoin:miter;stroke-width:0.8;\"/>\r\n   </g>\r\n  </g>\r\n </g>\r\n <defs>\r\n  <clipPath id=\"pd50de79d7e\">\r\n   <rect height=\"217.44\" width=\"334.8\" x=\"36.465625\" y=\"7.2\"/>\r\n  </clipPath>\r\n </defs>\r\n</svg>\r\n",
      "image/png": "[encoded data removed]"
     },
     "metadata": {
      "needs_background": "light"
     }
    }
   ],
   "source": [
    "import matplotlib.pyplot as plt\n",
    "\n",
    "plt.plot(history.history[\"hamming_loss\"])"
   ]
  },
  {
   "cell_type": "code",
   "execution_count": 169,
   "metadata": {},
   "outputs": [
    {
     "output_type": "execute_result",
     "data": {
      "text/plain": [
       "array([[0.10087365, 0.79002213, 0.35903656, 0.15015492],\n",
       "       [0.25807378, 0.47197703, 0.4285428 , 0.32059854],\n",
       "       [0.06975549, 0.30648285, 0.2661515 , 0.59637856]], dtype=float32)"
      ]
     },
     "metadata": {},
     "execution_count": 169
    }
   ],
   "source": [
    "model.predict(np.array([[\n",
    "        0.07886042065009584,\n",
    "        0.14055717017208438,\n",
    "        0.046357552581262014,\n",
    "        0.0999644359464626,\n",
    "        0.16190516252390144,\n",
    "        0.08229292543021047,\n",
    "        0.059352963671128196,\n",
    "        0.16139617590822164\n",
    "      ],[\n",
    "        0.0876876332622601,\n",
    "        0.11341151385927517,\n",
    "        0.042800639658848595,\n",
    "        0.11864765458422175,\n",
    "        0.15406289978678045,\n",
    "        0.10176759061833693,\n",
    "        0.04780597014925365,\n",
    "        0.17779317697228159\n",
    "      ],[\n",
    "        0.05391297208538589,\n",
    "        0.10879474548440066,\n",
    "        0.043482758620689635,\n",
    "        0.09275615763546799,\n",
    "        0.1309581280788178,\n",
    "        0.09154844006568143,\n",
    "        0.051869458128078805,\n",
    "        0.15095566502463056\n",
    "      ]]))"
   ]
  }
 ]
}